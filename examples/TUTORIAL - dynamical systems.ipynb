{
 "cells": [
  {
   "cell_type": "code",
   "execution_count": 1,
   "id": "9b9ef9c9",
   "metadata": {},
   "outputs": [],
   "source": [
    "import sympy as sy\n",
    "import numpy as np\n",
    "\n",
    "import matplotlib.pyplot as plt\n",
    "\n",
    "from DynamicalSystem import DynamicalSystem"
   ]
  },
  {
   "cell_type": "markdown",
   "id": "5c3b21be",
   "metadata": {},
   "source": [
    "# Start with the basics"
   ]
  },
  {
   "attachments": {},
   "cell_type": "markdown",
   "id": "a27bbbe0",
   "metadata": {},
   "source": [
    "## creating a new DynamicalSystem"
   ]
  },
  {
   "cell_type": "code",
   "execution_count": 2,
   "id": "ec4cffa2",
   "metadata": {},
   "outputs": [],
   "source": [
    "system = DynamicalSystem('van_der_Pol')"
   ]
  },
  {
   "cell_type": "markdown",
   "id": "60861b58",
   "metadata": {},
   "source": [
    "## display the systems equations"
   ]
  },
  {
   "cell_type": "code",
   "execution_count": 4,
   "id": "740cac2a",
   "metadata": {},
   "outputs": [
    {
     "data": {
      "text/latex": [
       "$\\displaystyle \\dot x = y \\\\ \\dot y = \\epsilon y \\left(1 - x^{2}\\right) - x \\\\ $"
      ],
      "text/plain": [
       "<IPython.core.display.Math object>"
      ]
     },
     "metadata": {},
     "output_type": "display_data"
    }
   ],
   "source": [
    "system.show()"
   ]
  },
  {
   "cell_type": "markdown",
   "id": "dc541fde",
   "metadata": {},
   "source": [
    "## get the variables"
   ]
  },
  {
   "cell_type": "code",
   "execution_count": 5,
   "id": "5a9859db",
   "metadata": {},
   "outputs": [
    {
     "data": {
      "text/latex": [
       "$\\displaystyle x$"
      ],
      "text/plain": [
       "x"
      ]
     },
     "execution_count": 5,
     "metadata": {},
     "output_type": "execute_result"
    }
   ],
   "source": [
    "x,y = system.VARIABLES\n",
    "x"
   ]
  },
  {
   "cell_type": "markdown",
   "id": "c3d1f607",
   "metadata": {},
   "source": [
    "## get the parameters"
   ]
  },
  {
   "cell_type": "code",
   "execution_count": 6,
   "id": "b4a7a839",
   "metadata": {},
   "outputs": [
    {
     "data": {
      "text/latex": [
       "$\\displaystyle \\epsilon$"
      ],
      "text/plain": [
       "epsilon"
      ]
     },
     "execution_count": 6,
     "metadata": {},
     "output_type": "execute_result"
    }
   ],
   "source": [
    "eps, = system.PARAMETERS\n",
    "eps"
   ]
  },
  {
   "attachments": {},
   "cell_type": "markdown",
   "id": "412b4cb4",
   "metadata": {},
   "source": [
    "## adding a term"
   ]
  },
  {
   "cell_type": "code",
   "execution_count": 6,
   "id": "4ece7771",
   "metadata": {},
   "outputs": [
    {
     "data": {
      "text/latex": [
       "$\\displaystyle \\dot x = I + y \\\\ \\dot y = \\epsilon y \\left(1 - x^{2}\\right) - x \\\\ $"
      ],
      "text/plain": [
       "<IPython.core.display.Math object>"
      ]
     },
     "metadata": {},
     "output_type": "display_data"
    }
   ],
   "source": [
    "system.add_term([x], sy.symbols('I'))\n",
    "system.show()"
   ]
  },
  {
   "cell_type": "markdown",
   "id": "79557e26",
   "metadata": {},
   "source": [
    "## obtain the fixed points"
   ]
  },
  {
   "cell_type": "code",
   "execution_count": 7,
   "id": "b504e639",
   "metadata": {},
   "outputs": [
    {
     "name": "stdout",
     "output_type": "stream",
     "text": [
      "fixed point nr. 0\n",
      "x=\n"
     ]
    },
    {
     "data": {
      "text/latex": [
       "$\\displaystyle - \\frac{\\sqrt{4 I^{2} \\epsilon^{2} + 1}}{2 I \\epsilon} + \\frac{1}{2 I \\epsilon}$"
      ],
      "text/plain": [
       "-sqrt(4*I**2*epsilon**2 + 1)/(2*I*epsilon) + 1/(2*I*epsilon)"
      ]
     },
     "metadata": {},
     "output_type": "display_data"
    },
    {
     "name": "stdout",
     "output_type": "stream",
     "text": [
      "y=\n"
     ]
    },
    {
     "data": {
      "text/latex": [
       "$\\displaystyle - I$"
      ],
      "text/plain": [
       "-I"
      ]
     },
     "metadata": {},
     "output_type": "display_data"
    },
    {
     "name": "stdout",
     "output_type": "stream",
     "text": [
      "Jacobian=\n"
     ]
    },
    {
     "data": {
      "text/latex": [
       "$\\displaystyle \\left[\\begin{matrix}0 & 1\\\\2 I \\epsilon \\left(- \\frac{\\sqrt{4 I^{2} \\epsilon^{2} + 1}}{2 I \\epsilon} + \\frac{1}{2 I \\epsilon}\\right) - 1 & \\epsilon \\left(1 - \\left(- \\frac{\\sqrt{4 I^{2} \\epsilon^{2} + 1}}{2 I \\epsilon} + \\frac{1}{2 I \\epsilon}\\right)^{2}\\right)\\end{matrix}\\right]$"
      ],
      "text/plain": [
       "Matrix([\n",
       "[                                                                             0,                                                                               1],\n",
       "[2*I*epsilon*(-sqrt(4*I**2*epsilon**2 + 1)/(2*I*epsilon) + 1/(2*I*epsilon)) - 1, epsilon*(1 - (-sqrt(4*I**2*epsilon**2 + 1)/(2*I*epsilon) + 1/(2*I*epsilon))**2)]])"
      ]
     },
     "metadata": {},
     "output_type": "display_data"
    },
    {
     "name": "stdout",
     "output_type": "stream",
     "text": [
      "eigenvalues\n"
     ]
    },
    {
     "data": {
      "text/latex": [
       "$\\displaystyle \\frac{\\sqrt{4 I^{2} \\epsilon^{2} + 1} - \\sqrt{- 16 I^{4} \\epsilon^{2} \\sqrt{4 I^{2} \\epsilon^{2} + 1} + \\left(\\sqrt{4 I^{2} \\epsilon^{2} + 1} - 1\\right)^{2}} - 1}{4 I^{2} \\epsilon}$"
      ],
      "text/plain": [
       "(sqrt(4*I**2*epsilon**2 + 1) - sqrt(-16*I**4*epsilon**2*sqrt(4*I**2*epsilon**2 + 1) + (sqrt(4*I**2*epsilon**2 + 1) - 1)**2) - 1)/(4*I**2*epsilon)"
      ]
     },
     "metadata": {},
     "output_type": "display_data"
    },
    {
     "data": {
      "text/latex": [
       "$\\displaystyle \\frac{\\sqrt{4 I^{2} \\epsilon^{2} + 1} + \\sqrt{- 16 I^{4} \\epsilon^{2} \\sqrt{4 I^{2} \\epsilon^{2} + 1} + \\left(\\sqrt{4 I^{2} \\epsilon^{2} + 1} - 1\\right)^{2}} - 1}{4 I^{2} \\epsilon}$"
      ],
      "text/plain": [
       "(sqrt(4*I**2*epsilon**2 + 1) + sqrt(-16*I**4*epsilon**2*sqrt(4*I**2*epsilon**2 + 1) + (sqrt(4*I**2*epsilon**2 + 1) - 1)**2) - 1)/(4*I**2*epsilon)"
      ]
     },
     "metadata": {},
     "output_type": "display_data"
    },
    {
     "name": "stdout",
     "output_type": "stream",
     "text": [
      "fixed point nr. 1\n",
      "x=\n"
     ]
    },
    {
     "data": {
      "text/latex": [
       "$\\displaystyle \\frac{\\sqrt{4 I^{2} \\epsilon^{2} + 1}}{2 I \\epsilon} + \\frac{1}{2 I \\epsilon}$"
      ],
      "text/plain": [
       "sqrt(4*I**2*epsilon**2 + 1)/(2*I*epsilon) + 1/(2*I*epsilon)"
      ]
     },
     "metadata": {},
     "output_type": "display_data"
    },
    {
     "name": "stdout",
     "output_type": "stream",
     "text": [
      "y=\n"
     ]
    },
    {
     "data": {
      "text/latex": [
       "$\\displaystyle - I$"
      ],
      "text/plain": [
       "-I"
      ]
     },
     "metadata": {},
     "output_type": "display_data"
    },
    {
     "name": "stdout",
     "output_type": "stream",
     "text": [
      "Jacobian=\n"
     ]
    },
    {
     "data": {
      "text/latex": [
       "$\\displaystyle \\left[\\begin{matrix}0 & 1\\\\2 I \\epsilon \\left(\\frac{\\sqrt{4 I^{2} \\epsilon^{2} + 1}}{2 I \\epsilon} + \\frac{1}{2 I \\epsilon}\\right) - 1 & \\epsilon \\left(1 - \\left(\\frac{\\sqrt{4 I^{2} \\epsilon^{2} + 1}}{2 I \\epsilon} + \\frac{1}{2 I \\epsilon}\\right)^{2}\\right)\\end{matrix}\\right]$"
      ],
      "text/plain": [
       "Matrix([\n",
       "[                                                                            0,                                                                              1],\n",
       "[2*I*epsilon*(sqrt(4*I**2*epsilon**2 + 1)/(2*I*epsilon) + 1/(2*I*epsilon)) - 1, epsilon*(1 - (sqrt(4*I**2*epsilon**2 + 1)/(2*I*epsilon) + 1/(2*I*epsilon))**2)]])"
      ]
     },
     "metadata": {},
     "output_type": "display_data"
    },
    {
     "name": "stdout",
     "output_type": "stream",
     "text": [
      "eigenvalues\n"
     ]
    },
    {
     "data": {
      "text/latex": [
       "$\\displaystyle \\frac{- \\sqrt{4 I^{2} \\epsilon^{2} + 1} - \\sqrt{16 I^{4} \\epsilon^{2} \\sqrt{4 I^{2} \\epsilon^{2} + 1} + \\left(\\sqrt{4 I^{2} \\epsilon^{2} + 1} + 1\\right)^{2}} - 1}{4 I^{2} \\epsilon}$"
      ],
      "text/plain": [
       "(-sqrt(4*I**2*epsilon**2 + 1) - sqrt(16*I**4*epsilon**2*sqrt(4*I**2*epsilon**2 + 1) + (sqrt(4*I**2*epsilon**2 + 1) + 1)**2) - 1)/(4*I**2*epsilon)"
      ]
     },
     "metadata": {},
     "output_type": "display_data"
    },
    {
     "data": {
      "text/latex": [
       "$\\displaystyle \\frac{- \\sqrt{4 I^{2} \\epsilon^{2} + 1} + \\sqrt{16 I^{4} \\epsilon^{2} \\sqrt{4 I^{2} \\epsilon^{2} + 1} + \\left(\\sqrt{4 I^{2} \\epsilon^{2} + 1} + 1\\right)^{2}} - 1}{4 I^{2} \\epsilon}$"
      ],
      "text/plain": [
       "(-sqrt(4*I**2*epsilon**2 + 1) + sqrt(16*I**4*epsilon**2*sqrt(4*I**2*epsilon**2 + 1) + (sqrt(4*I**2*epsilon**2 + 1) + 1)**2) - 1)/(4*I**2*epsilon)"
      ]
     },
     "metadata": {},
     "output_type": "display_data"
    }
   ],
   "source": [
    "fixed_points = system.get_fixed_points(Jacobian=True)\n",
    "for i,fp in enumerate(fixed_points):\n",
    "    print(f'fixed point nr. {i}')\n",
    "    print('x=')\n",
    "    display(fp[x])\n",
    "    print('y=')\n",
    "    display(fp[y])\n",
    "    print('Jacobian=')\n",
    "    display(fp['Jacobian'])\n",
    "    print('eigenvalues')\n",
    "    for eigenval in fp['Jacobian'].eigenvals():\n",
    "        display(eigenval.simplify())"
   ]
  },
  {
   "cell_type": "markdown",
   "id": "59b35c50",
   "metadata": {},
   "source": [
    "# Numerical features"
   ]
  },
  {
   "attachments": {},
   "cell_type": "markdown",
   "id": "a6cf431c",
   "metadata": {},
   "source": [
    "## integrating the system in time"
   ]
  },
  {
   "cell_type": "code",
   "execution_count": 8,
   "id": "77c9d4ea",
   "metadata": {},
   "outputs": [
    {
     "data": {
      "image/png": "[encoded data removed]",
      "text/plain": [
       "<Figure size 640x480 with 1 Axes>"
      ]
     },
     "metadata": {},
     "output_type": "display_data"
    }
   ],
   "source": [
    "params = {eps: 4.2, sy.symbols('I'): 0}\n",
    "\n",
    "state0 = [0.3, 2.1]\n",
    "\n",
    "t_max = 10.33\n",
    "states_time = system.get_trajectories(t_span=(0., t_max), t_eval = np.linspace(0, t_max, 1000), \n",
    "                                      state0 = state0, parameter_values=params)\n",
    "\n",
    "plt.plot(states_time.y[0,:], states_time.y[1,:])\n",
    "plt.show()"
   ]
  },
  {
   "cell_type": "markdown",
   "id": "ce6b20bf",
   "metadata": {},
   "source": [
    "## integrate until a condition is met"
   ]
  },
  {
   "cell_type": "code",
   "execution_count": 9,
   "id": "76edd507",
   "metadata": {},
   "outputs": [
    {
     "data": {
      "image/png": "[encoded data removed]",
      "text/plain": [
       "<Figure size 640x480 with 1 Axes>"
      ]
     },
     "metadata": {},
     "output_type": "display_data"
    }
   ],
   "source": [
    "# defining an event (the condition)\n",
    "def x_crossing(t, state, epsilon):\n",
    "    return state[0] - 1.3\n",
    "x_crossing.direction = 1\n",
    "x_crossing.terminal = True\n",
    "\n",
    "states_thr  = system.get_trajectories(t_span=(0., t_max), t_eval = np.linspace(0, t_max, 1000), \n",
    "                                      state0 = state0, parameter_values=params, \n",
    "                                      events = x_crossing)\n",
    "\n",
    "plt.plot(states_time.y[0,:], states_time.y[1,:])\n",
    "plt.plot(states_thr.y[0,:],  states_thr.y[1,:], 'k:')\n",
    "plt.show()"
   ]
  },
  {
   "cell_type": "markdown",
   "id": "d58095db",
   "metadata": {},
   "source": [
    "## integrate event-based"
   ]
  },
  {
   "cell_type": "code",
   "execution_count": 10,
   "id": "0d1d3146",
   "metadata": {},
   "outputs": [
    {
     "data": {
      "image/png": "[encoded data removed]",
      "text/plain": [
       "<Figure size 640x480 with 1 Axes>"
      ]
     },
     "metadata": {},
     "output_type": "display_data"
    }
   ],
   "source": [
    "# define state action\n",
    "\n",
    "event_list = [(0.1, {sy.symbols('I'): 10.0}, None)]\n",
    "\n",
    "#event_list = [(0., {}, lambda state: (state[0]+ 0.1*10, state[1] ))]\n",
    "\n",
    "# integrate \n",
    "states, Time, event_idx = system.get_event_based_evolution(state0, params,\n",
    "                                                           x_crossing, event_list, \n",
    "                                                           T_max=50, N_events=10)\n",
    "\n",
    "plt.plot(states[0,:], states[1,:])\n",
    "\n",
    "plt.axvline(1.3, c='k')\n",
    "\n",
    "plt.show()"
   ]
  },
  {
   "cell_type": "markdown",
   "id": "1c49dc57",
   "metadata": {},
   "source": [
    "## get the limit cycle"
   ]
  },
  {
   "cell_type": "code",
   "execution_count": 13,
   "id": "609f7d48",
   "metadata": {},
   "outputs": [
    {
     "name": "stdout",
     "output_type": "stream",
     "text": [
      "period = 7.0963735896847595\n",
      "frequency = 0.8854079097967421\n",
      "Floquet exponent (calculated by Jacobian trace)   = -1.683794649043326\n",
      "Floquet exponent (calculated by Monodromy matrix) = -1.6837946489372346\n"
     ]
    }
   ],
   "source": [
    "kwargs_int = {'method': 'DOP853', 'max_step': 2**-7}\n",
    "\n",
    "def event(t, state, args):\n",
    "    return state[1]\n",
    "event.direction = -1\n",
    "\n",
    "Time, y, extras = system.get_limit_cycle(params, event, isostable_expansion_order=1,\n",
    "                                         t_eq=250, state0=[1.,1.], samples=300,\n",
    "                                         ShowResults = True, \n",
    "                                         **kwargs_int)"
   ]
  },
  {
   "cell_type": "markdown",
   "id": "9f8febd9",
   "metadata": {},
   "source": [
    "## get the isostable map close to a fixed point"
   ]
  },
  {
   "cell_type": "code",
   "execution_count": 11,
   "id": "895071a2",
   "metadata": {},
   "outputs": [],
   "source": [
    "system = DynamicalSystem('van_der_Pol')"
   ]
  },
  {
   "cell_type": "markdown",
   "id": "1b388af7",
   "metadata": {},
   "source": [
    "### ... for a focus"
   ]
  },
  {
   "cell_type": "code",
   "execution_count": 12,
   "id": "95861dd5",
   "metadata": {},
   "outputs": [
    {
     "ename": "TypeError",
     "evalue": "'list' object is not callable",
     "output_type": "error",
     "traceback": [
      "\u001b[1;31m---------------------------------------------------------------------------\u001b[0m",
      "\u001b[1;31mTypeError\u001b[0m                                 Traceback (most recent call last)",
      "Cell \u001b[1;32mIn[12], line 8\u001b[0m\n\u001b[0;32m      4\u001b[0m isomap \u001b[38;5;241m=\u001b[39m isomaps[\u001b[38;5;241m0\u001b[39m]\n\u001b[0;32m      6\u001b[0m psi \u001b[38;5;241m=\u001b[39m np\u001b[38;5;241m.\u001b[39mlinspace(\u001b[38;5;241m0\u001b[39m, \u001b[38;5;241m2.\u001b[39m\u001b[38;5;241m*\u001b[39mnp\u001b[38;5;241m.\u001b[39mpi, \u001b[38;5;241m100\u001b[39m)\n\u001b[1;32m----> 8\u001b[0m fixed_point \u001b[38;5;241m=\u001b[39m isomap(\u001b[38;5;241m0\u001b[39m,\u001b[38;5;241m0\u001b[39m)\n\u001b[0;32m      9\u001b[0m isostable_curve \u001b[38;5;241m=\u001b[39m np\u001b[38;5;241m.\u001b[39marray([isomap(\u001b[38;5;241m1\u001b[39m, p) \u001b[38;5;28;01mfor\u001b[39;00m p \u001b[38;5;129;01min\u001b[39;00m psi])\u001b[38;5;241m.\u001b[39mT\n\u001b[0;32m     11\u001b[0m plt\u001b[38;5;241m.\u001b[39mplot(fixed_point[\u001b[38;5;241m0\u001b[39m], fixed_point[\u001b[38;5;241m1\u001b[39m], marker\u001b[38;5;241m=\u001b[39m\u001b[38;5;124m'\u001b[39m\u001b[38;5;124mo\u001b[39m\u001b[38;5;124m'\u001b[39m, c\u001b[38;5;241m=\u001b[39m\u001b[38;5;124m'\u001b[39m\u001b[38;5;124mk\u001b[39m\u001b[38;5;124m'\u001b[39m)\n",
      "\u001b[1;31mTypeError\u001b[0m: 'list' object is not callable"
     ]
    }
   ],
   "source": [
    "params = {sy.symbols('epsilon'): 1.5}\n",
    "\n",
    "isomaps = system.get_isostable_map_at_fixed_points(params)\n",
    "isomap = isomaps[0]\n",
    "\n",
    "psi = np.linspace(0, 2.*np.pi, 100)\n",
    "\n",
    "fixed_point = isomap(0,0)\n",
    "isostable_curve = np.array([isomap(1, p) for p in psi]).T\n",
    "\n",
    "plt.plot(fixed_point[0], fixed_point[1], marker='o', c='k')\n",
    "plt.plot(isostable_curve[0], isostable_curve[1], c='b')\n",
    "plt.show()"
   ]
  },
  {
   "cell_type": "markdown",
   "id": "56d75769",
   "metadata": {},
   "source": [
    "### ... for a node"
   ]
  },
  {
   "cell_type": "code",
   "execution_count": 19,
   "id": "d27d69f4",
   "metadata": {},
   "outputs": [
    {
     "data": {
      "image/png": "[encoded data removed]",
      "text/plain": [
       "<Figure size 640x480 with 1 Axes>"
      ]
     },
     "metadata": {},
     "output_type": "display_data"
    }
   ],
   "source": [
    "params = {sy.symbols('epsilon'): 2.1}\n",
    "\n",
    "isomaps = system.get_isostable_map_at_fixed_points(params)\n",
    "isomap = isomaps[0]\n",
    "\n",
    "x = np.linspace(-1, 1, 100)\n",
    "\n",
    "fixed_point = isomap(0,0)\n",
    "plt.plot(fixed_point[0], fixed_point[1], marker='o', c='k')\n",
    "\n",
    "isostable_curve = np.array([isomap(0, a2) for a2 in x]).T\n",
    "plt.plot(isostable_curve[0], isostable_curve[1], c='b')\n",
    "\n",
    "isostable_curve = np.array([isomap(a1, 0) for a1 in x]).T\n",
    "plt.plot(isostable_curve[0], isostable_curve[1], c='g')\n",
    "\n",
    "plt.show()"
   ]
  },
  {
   "cell_type": "markdown",
   "id": "d873edcd",
   "metadata": {},
   "source": [
    "# Setting up more complex models"
   ]
  },
  {
   "cell_type": "markdown",
   "id": "d650fb73",
   "metadata": {},
   "source": [
    "## obtain the time-inverted system"
   ]
  },
  {
   "cell_type": "code",
   "execution_count": null,
   "id": "82f57fee",
   "metadata": {},
   "outputs": [],
   "source": [
    "#system_inv = system.get_"
   ]
  },
  {
   "cell_type": "markdown",
   "id": "53060828",
   "metadata": {},
   "source": [
    "## Rayleigh system"
   ]
  },
  {
   "cell_type": "code",
   "execution_count": null,
   "id": "e001d3f7",
   "metadata": {},
   "outputs": [],
   "source": [
    "system = DynamicalSystem('rayleigh')\n",
    "params = {sy.symbols('mu'): 2.,\n",
    "          sy.symbols('omega'): 0.98}\n",
    "\n",
    "state0 = [0.3, 2.1]\n",
    "\n",
    "t_max = 1000.\n",
    "states = system.get_trajectories((0., t_max), \n",
    "                                  t_eval = np.linspace(0.8*t_max, t_max, 1000), \n",
    "                                  state0 = state0, parameter_values=params)\n",
    "\n",
    "plt.plot(states.y[0,:], states.y[1,:])\n",
    "plt.show()"
   ]
  },
  {
   "cell_type": "markdown",
   "id": "d00423c5",
   "metadata": {},
   "source": [
    "## a linear system"
   ]
  },
  {
   "cell_type": "code",
   "execution_count": null,
   "id": "000fe11e",
   "metadata": {},
   "outputs": [],
   "source": [
    "system = DynamicalSystem('linear', variables=[sy.symbols('x'), sy.symbols('y'), sy.symbols('z')])\n",
    "system.show()"
   ]
  },
  {
   "cell_type": "markdown",
   "id": "c25fc52d",
   "metadata": {},
   "source": [
    "## a coupled system"
   ]
  },
  {
   "cell_type": "code",
   "execution_count": null,
   "id": "40b519df",
   "metadata": {},
   "outputs": [],
   "source": []
  },
  {
   "cell_type": "markdown",
   "id": "cfa368f5",
   "metadata": {},
   "source": [
    "## performing a transformation\n",
    "\n",
    "Here, we perform a transformation from the Rayleigh system to the van der Pol system:"
   ]
  },
  {
   "cell_type": "code",
   "execution_count": 2,
   "id": "eec4b0b1",
   "metadata": {},
   "outputs": [
    {
     "data": {
      "text/latex": [
       "$\\displaystyle \\dot x = y \\\\ \\dot y = \\mu y \\left(1 - y^{2}\\right) - \\omega^{2} x \\\\ $"
      ],
      "text/plain": [
       "<IPython.core.display.Math object>"
      ]
     },
     "metadata": {},
     "output_type": "display_data"
    }
   ],
   "source": [
    "system_ray = DynamicalSystem('rayleigh')\n",
    "\n",
    "x,y = system_ray.VARIABLES\n",
    "w,mu = system_ray.PARAMETERS\n",
    "\n",
    "system_ray.show()"
   ]
  },
  {
   "cell_type": "code",
   "execution_count": 14,
   "id": "06a9d7ea",
   "metadata": {},
   "outputs": [
    {
     "data": {
      "text/latex": [
       "$\\displaystyle \\dot u = v \\\\ \\dot v = - \\mu u^{2} v + \\mu v - \\omega^{2} u \\\\ $"
      ],
      "text/plain": [
       "<IPython.core.display.Math object>"
      ]
     },
     "metadata": {},
     "output_type": "display_data"
    }
   ],
   "source": [
    "u,v = sy.symbols('u, v')\n",
    "\n",
    "system_transformed = system_ray.new_transformed([u,v], {x: 1/w**2/sy.sqrt(3)*(mu*u*(1-u**2/3)-v), y: u/sy.sqrt(3)})\n",
    "system_transformed.show()"
   ]
  },
  {
   "cell_type": "markdown",
   "id": "089be6ea",
   "metadata": {},
   "source": [
    "## the polar transformation"
   ]
  },
  {
   "cell_type": "code",
   "execution_count": 18,
   "id": "f5c2840b",
   "metadata": {},
   "outputs": [
    {
     "data": {
      "text/latex": [
       "$\\displaystyle - R^{2} \\mu \\sin^{3}{\\left(\\theta \\right)} \\cos{\\left(\\theta \\right)} + \\frac{\\mu \\sin{\\left(2 \\theta \\right)}}{2} - \\omega^{2} \\cos^{2}{\\left(\\theta \\right)} - \\sin^{2}{\\left(\\theta \\right)}$"
      ],
      "text/plain": [
       "-R**2*mu*sin(theta)**3*cos(theta) + mu*sin(2*theta)/2 - omega**2*cos(theta)**2 - sin(theta)**2"
      ]
     },
     "execution_count": 18,
     "metadata": {},
     "output_type": "execute_result"
    }
   ],
   "source": [
    "R,theta = sy.symbols('R, theta')\n",
    "\n",
    "system_transformed = system_ray.new_transformed([R,theta], {x: R*sy.cos(theta), y: R*sy.sin(theta)})\n",
    "system_transformed.ODE[1].trigsimp()"
   ]
  },
  {
   "cell_type": "code",
   "execution_count": null,
   "id": "5081b11d",
   "metadata": {},
   "outputs": [],
   "source": []
  }
 ],
 "metadata": {
  "kernelspec": {
   "display_name": "Python 3.8.13 ('base')",
   "language": "python",
   "name": "python3"
  },
  "language_info": {
   "codemirror_mode": {
    "name": "ipython",
    "version": 3
   },
   "file_extension": ".py",
   "mimetype": "text/x-python",
   "name": "python",
   "nbconvert_exporter": "python",
   "pygments_lexer": "ipython3",
   "version": "3.11.5"
  },
  "latex_envs": {
   "LaTeX_envs_menu_present": true,
   "autoclose": false,
   "autocomplete": true,
   "bibliofile": "biblio.bib",
   "cite_by": "apalike",
   "current_citInitial": 1,
   "eqLabelWithNumbers": true,
   "eqNumInitial": 1,
   "hotkeys": {
    "equation": "Ctrl-E",
    "itemize": "Ctrl-I"
   },
   "labels_anchors": false,
   "latex_user_defs": false,
   "report_style_numbering": false,
   "user_envs_cfg": false
  },
  "toc": {
   "base_numbering": 1,
   "nav_menu": {},
   "number_sections": true,
   "sideBar": true,
   "skip_h1_title": false,
   "title_cell": "Table of Contents",
   "title_sidebar": "Contents",
   "toc_cell": false,
   "toc_position": {},
   "toc_section_display": true,
   "toc_window_display": true
  },
  "vscode": {
   "interpreter": {
    "hash": "145cabe0aab03051472071b6c1005023b46d9010eaf6d5f2f48e00c64f0f2025"
   }
  }
 },
 "nbformat": 4,
 "nbformat_minor": 5
}
