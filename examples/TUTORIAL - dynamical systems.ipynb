{
 "cells": [
  {
   "cell_type": "code",
   "execution_count": null,
   "id": "9b9ef9c9",
   "metadata": {},
   "outputs": [],
   "source": [
    "import sympy as sy\n",
    "import numpy as np\n",
    "import matplotlib.pyplot as plt\n",
    "from IPython.display import Math\n",
    "\n",
    "from symode.dynamical_system import DynamicalSystem"
   ]
  },
  {
   "cell_type": "markdown",
   "id": "5c3b21be",
   "metadata": {},
   "source": [
    "# Start with the basics"
   ]
  },
  {
   "attachments": {},
   "cell_type": "markdown",
   "id": "a27bbbe0",
   "metadata": {},
   "source": [
    "## creating a new DynamicalSystem"
   ]
  },
  {
   "cell_type": "code",
   "execution_count": null,
   "id": "ec4cffa2",
   "metadata": {},
   "outputs": [],
   "source": [
    "system = DynamicalSystem('van_der_Pol')"
   ]
  },
  {
   "cell_type": "markdown",
   "id": "60861b58",
   "metadata": {},
   "source": [
    "## display the systems equations"
   ]
  },
  {
   "cell_type": "code",
   "execution_count": 3,
   "id": "83bc66f8",
   "metadata": {},
   "outputs": [
    {
     "data": {
      "text/latex": [
       "$\\displaystyle \\dot x = y \\\\\\dot y = \\epsilon y \\left(1 - x^{2}\\right) - x \\\\$"
      ],
      "text/plain": [
       "<IPython.core.display.Math object>"
      ]
     },
     "execution_count": 3,
     "metadata": {},
     "output_type": "execute_result"
    }
   ],
   "source": [
    "Math(str(system))"
   ]
  },
  {
   "cell_type": "markdown",
   "id": "dc541fde",
   "metadata": {},
   "source": [
    "## get the variables"
   ]
  },
  {
   "cell_type": "code",
   "execution_count": null,
   "id": "5a9859db",
   "metadata": {},
   "outputs": [],
   "source": [
    "x,y = system._variables"
   ]
  },
  {
   "cell_type": "markdown",
   "id": "c3d1f607",
   "metadata": {},
   "source": [
    "## get the parameters"
   ]
  },
  {
   "cell_type": "code",
   "execution_count": null,
   "id": "b4a7a839",
   "metadata": {},
   "outputs": [],
   "source": [
    "eps, = system._parameters"
   ]
  },
  {
   "attachments": {},
   "cell_type": "markdown",
   "id": "412b4cb4",
   "metadata": {},
   "source": [
    "## adding a term"
   ]
  },
  {
   "cell_type": "code",
   "execution_count": null,
   "id": "4ece7771",
   "metadata": {},
   "outputs": [],
   "source": [
    "system.add_term([x], sy.symbols('I'))\n",
    "Math(str(system))"
   ]
  },
  {
   "cell_type": "markdown",
   "id": "79557e26",
   "metadata": {},
   "source": [
    "## obtain the fixed points"
   ]
  },
  {
   "cell_type": "code",
   "execution_count": null,
   "id": "b504e639",
   "metadata": {},
   "outputs": [],
   "source": [
    "fixed_points = system.get_fixed_points(jacobian=True)\n",
    "for i,fp in enumerate(fixed_points):\n",
    "    print(f'fixed point nr. {i}')\n",
    "    print('x=')\n",
    "    display(fp[x])\n",
    "    print('y=')\n",
    "    display(fp[y])\n",
    "    print('Jacobian=')\n",
    "    display(fp['Jacobian'])\n",
    "    print('eigenvalues')\n",
    "    for eigenval in fp['Jacobian'].eigenvals():\n",
    "        display(eigenval.simplify())"
   ]
  },
  {
   "cell_type": "markdown",
   "id": "59b35c50",
   "metadata": {},
   "source": [
    "# Numerical features"
   ]
  },
  {
   "attachments": {},
   "cell_type": "markdown",
   "id": "a6cf431c",
   "metadata": {},
   "source": [
    "## integrating the system in time"
   ]
  },
  {
   "cell_type": "code",
   "execution_count": null,
   "id": "77c9d4ea",
   "metadata": {},
   "outputs": [],
   "source": [
    "params = {eps: 4.2, sy.symbols('I'): 0}\n",
    "\n",
    "state0 = [0.3, 2.1]\n",
    "\n",
    "t_max = 10.33\n",
    "states_time = system.get_trajectories((0., t_max), state0, params,\n",
    "                                      t_eval = np.linspace(0, t_max, 1000), max_step=0.005)\n",
    "\n",
    "plt.plot(states_time.y[0,:], states_time.y[1,:])\n",
    "plt.show()"
   ]
  },
  {
   "cell_type": "markdown",
   "id": "ce6b20bf",
   "metadata": {},
   "source": [
    "## integrate until a condition is met"
   ]
  },
  {
   "cell_type": "code",
   "execution_count": null,
   "id": "76edd507",
   "metadata": {},
   "outputs": [],
   "source": [
    "# defining an event (the condition)\n",
    "def x_crossing(t, state, epsilon):\n",
    "    return state[0] - 1.3\n",
    "x_crossing.direction = 1\n",
    "x_crossing.terminal = True\n",
    "\n",
    "states_thr  = system.get_trajectories(t_span=(0., t_max), t_eval = np.linspace(0, t_max, 1000),\n",
    "                                      state0 = state0, parameter_values=params,\n",
    "                                      events = x_crossing)\n",
    "\n",
    "plt.axvline(1.3, c='k')\n",
    "\n",
    "plt.plot(states_time.y[0,:], states_time.y[1,:])\n",
    "plt.plot(states_thr.y[0,:],  states_thr.y[1,:], 'k:')\n",
    "plt.show()"
   ]
  },
  {
   "cell_type": "markdown",
   "id": "d58095db",
   "metadata": {},
   "source": [
    "## integrate event-based"
   ]
  },
  {
   "cell_type": "code",
   "execution_count": null,
   "id": "0d1d3146",
   "metadata": {},
   "outputs": [],
   "source": [
    "# define state action\n",
    "\n",
    "event_list = [(0.1, {sy.symbols('I'): 10.0}, None)]\n",
    "\n",
    "# integrate\n",
    "states, Time, event_idx = system.get_event_based_evolution(state0, params,\n",
    "                                                           x_crossing, event_list,\n",
    "                                                           T_max=50, N_events=10)\n",
    "\n",
    "plt.plot(states[0,:], states[1,:])\n",
    "\n",
    "plt.axvline(1.3, c='k')\n",
    "\n",
    "plt.show()"
   ]
  },
  {
   "cell_type": "markdown",
   "id": "1c49dc57",
   "metadata": {},
   "source": [
    "## get the limit cycle"
   ]
  },
  {
   "cell_type": "code",
   "execution_count": null,
   "id": "609f7d48",
   "metadata": {},
   "outputs": [],
   "source": [
    "kwargs_int = {'method': 'DOP853', 'max_step': 2**-7}\n",
    "\n",
    "def event(t, state, args):\n",
    "    return state[1]\n",
    "event.direction = -1\n",
    "\n",
    "Time, y, extras = system.get_limit_cycle(params, event, isostable_expansion_order=1,\n",
    "                                         t_eq=250, state0=[1.,1.], samples=300,\n",
    "                                         ShowResults = True,\n",
    "                                         **kwargs_int)"
   ]
  },
  {
   "cell_type": "markdown",
   "id": "9f8febd9",
   "metadata": {},
   "source": [
    "## get the isostable map close to a fixed point"
   ]
  },
  {
   "cell_type": "code",
   "execution_count": null,
   "id": "895071a2",
   "metadata": {},
   "outputs": [],
   "source": [
    "system = DynamicalSystem('van_der_Pol')"
   ]
  },
  {
   "cell_type": "markdown",
   "id": "1b388af7",
   "metadata": {},
   "source": [
    "### ... for a focus"
   ]
  },
  {
   "cell_type": "code",
   "execution_count": null,
   "id": "95861dd5",
   "metadata": {},
   "outputs": [],
   "source": [
    "params = {sy.symbols('epsilon'): 1.5}\n",
    "\n",
    "isomaps = system.get_isostable_map_at_fixed_points(params)\n",
    "isomap = isomaps[0]\n",
    "\n",
    "psi = np.linspace(0, 2.*np.pi, 100)\n",
    "\n",
    "fixed_point = isomap(0,0)\n",
    "isostable_curve = np.array([isomap(1, p) for p in psi]).T\n",
    "\n",
    "plt.plot(fixed_point[0], fixed_point[1], marker='o', c='k')\n",
    "plt.plot(isostable_curve[0], isostable_curve[1], c='b')\n",
    "plt.show()"
   ]
  },
  {
   "cell_type": "markdown",
   "id": "56d75769",
   "metadata": {},
   "source": [
    "### ... for a node"
   ]
  },
  {
   "cell_type": "code",
   "execution_count": null,
   "id": "d27d69f4",
   "metadata": {},
   "outputs": [],
   "source": [
    "params = {sy.symbols('epsilon'): 2.1}\n",
    "\n",
    "isomaps = system.get_isostable_map_at_fixed_points(params)\n",
    "isomap = isomaps[0]\n",
    "\n",
    "x = np.linspace(-1, 1, 100)\n",
    "\n",
    "fixed_point = isomap(0,0)\n",
    "plt.plot(fixed_point[0], fixed_point[1], marker='o', c='k')\n",
    "\n",
    "isostable_curve = np.array([isomap(0, a2) for a2 in x]).T\n",
    "plt.plot(isostable_curve[0], isostable_curve[1], c='b')\n",
    "\n",
    "isostable_curve = np.array([isomap(a1, 0) for a1 in x]).T\n",
    "plt.plot(isostable_curve[0], isostable_curve[1], c='g')\n",
    "\n",
    "plt.show()"
   ]
  },
  {
   "cell_type": "markdown",
   "id": "d873edcd",
   "metadata": {},
   "source": [
    "# Setting up more complex models"
   ]
  },
  {
   "cell_type": "markdown",
   "id": "d650fb73",
   "metadata": {},
   "source": [
    "## obtain the time-inverted system"
   ]
  },
  {
   "cell_type": "code",
   "execution_count": null,
   "id": "82f57fee",
   "metadata": {},
   "outputs": [],
   "source": [
    "#system_inv = system.get_"
   ]
  },
  {
   "cell_type": "markdown",
   "id": "53060828",
   "metadata": {},
   "source": [
    "## Rayleigh system"
   ]
  },
  {
   "cell_type": "code",
   "execution_count": null,
   "id": "e001d3f7",
   "metadata": {},
   "outputs": [],
   "source": [
    "system = DynamicalSystem('rayleigh')\n",
    "params = {sy.symbols('mu'): 2.,\n",
    "          sy.symbols('omega'): 0.98}\n",
    "\n",
    "state0 = [0.3, 2.1]\n",
    "\n",
    "t_max = 1000.\n",
    "states = system.get_trajectories((0., t_max),\n",
    "                                  t_eval = np.linspace(0.8*t_max, t_max, 1000),\n",
    "                                  state0 = state0, parameter_values=params)\n",
    "\n",
    "plt.plot(states.y[0,:], states.y[1,:])\n",
    "plt.show()"
   ]
  },
  {
   "cell_type": "markdown",
   "id": "d00423c5",
   "metadata": {},
   "source": [
    "## a linear system"
   ]
  },
  {
   "cell_type": "code",
   "execution_count": null,
   "id": "000fe11e",
   "metadata": {},
   "outputs": [],
   "source": [
    "system = DynamicalSystem('linear', variables=[sy.symbols('x'), sy.symbols('y'), sy.symbols('z')])\n",
    "Math(str(system))"
   ]
  },
  {
   "cell_type": "markdown",
   "id": "c25fc52d",
   "metadata": {},
   "source": [
    "## a coupled system"
   ]
  },
  {
   "cell_type": "code",
   "execution_count": null,
   "id": "40b519df",
   "metadata": {},
   "outputs": [],
   "source": []
  },
  {
   "cell_type": "markdown",
   "id": "cfa368f5",
   "metadata": {},
   "source": [
    "## performing a transformation\n",
    "\n",
    "Here, we perform a transformation from the Rayleigh system to the van der Pol system:"
   ]
  },
  {
   "cell_type": "code",
   "execution_count": null,
   "id": "eec4b0b1",
   "metadata": {},
   "outputs": [],
   "source": [
    "system_ray = DynamicalSystem('rayleigh')\n",
    "\n",
    "x,y = system_ray.VARIABLES\n",
    "w,mu = system_ray.PARAMETERS\n",
    "\n",
    "Math(str(system_ray))"
   ]
  },
  {
   "cell_type": "code",
   "execution_count": null,
   "id": "06a9d7ea",
   "metadata": {},
   "outputs": [],
   "source": [
    "u,v = sy.symbols('u, v')\n",
    "\n",
    "system_transformed = system_ray.new_transformed([u,v], {x: 1/w**2/sy.sqrt(3)*(mu*u*(1-u**2/3)-v), y: u/sy.sqrt(3)})\n",
    "Math(str(system_transformed))"
   ]
  },
  {
   "cell_type": "markdown",
   "id": "089be6ea",
   "metadata": {},
   "source": [
    "## the polar transformation"
   ]
  },
  {
   "cell_type": "code",
   "execution_count": null,
   "id": "f5c2840b",
   "metadata": {},
   "outputs": [],
   "source": [
    "R,theta = sy.symbols('R, theta')\n",
    "\n",
    "system_transformed = system_ray.new_transformed([R,theta], {x: R*sy.cos(theta), y: R*sy.sin(theta)})\n",
    "system_transformed.ODE[1].trigsimp()"
   ]
  },
  {
   "cell_type": "code",
   "execution_count": null,
   "id": "5081b11d",
   "metadata": {},
   "outputs": [],
   "source": []
  }
 ],
 "metadata": {
  "kernelspec": {
   "display_name": "work",
   "language": "python",
   "name": "python3"
  },
  "language_info": {
   "codemirror_mode": {
    "name": "ipython",
    "version": 3
   },
   "file_extension": ".py",
   "mimetype": "text/x-python",
   "name": "python",
   "nbconvert_exporter": "python",
   "pygments_lexer": "ipython3",
   "version": "3.12.3"
  },
  "latex_envs": {
   "LaTeX_envs_menu_present": true,
   "autoclose": false,
   "autocomplete": true,
   "bibliofile": "biblio.bib",
   "cite_by": "apalike",
   "current_citInitial": 1,
   "eqLabelWithNumbers": true,
   "eqNumInitial": 1,
   "hotkeys": {
    "equation": "Ctrl-E",
    "itemize": "Ctrl-I"
   },
   "labels_anchors": false,
   "latex_user_defs": false,
   "report_style_numbering": false,
   "user_envs_cfg": false
  },
  "toc": {
   "base_numbering": 1,
   "nav_menu": {},
   "number_sections": true,
   "sideBar": true,
   "skip_h1_title": false,
   "title_cell": "Table of Contents",
   "title_sidebar": "Contents",
   "toc_cell": false,
   "toc_position": {},
   "toc_section_display": true,
   "toc_window_display": true
  }
 },
 "nbformat": 4,
 "nbformat_minor": 5
}
