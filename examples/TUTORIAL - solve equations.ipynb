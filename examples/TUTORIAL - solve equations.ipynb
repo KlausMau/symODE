{
 "cells": [
  {
   "cell_type": "code",
   "execution_count": null,
   "metadata": {},
   "outputs": [],
   "source": [
    "import sympy as sy\n",
    "from src.dynamical_system import DynamicalSystem\n",
    "from src.componentwise_expression import ComponentwiseExpression\n",
    "from src.util import *"
   ]
  },
  {
   "cell_type": "code",
   "execution_count": null,
   "metadata": {},
   "outputs": [],
   "source": [
    "A,B,C,D,E,F,N = sy.symbols('A B C D E F N', real = True)\n",
    "a,b,c,alpha,beta = sy.symbols('a b c alpha beta', real = True)\n",
    "\n",
    "x,y,z = sy.symbols('x y z', real = True)\n",
    "\n",
    "equation = A + B*x + C*x**2"
   ]
  },
  {
   "cell_type": "code",
   "execution_count": null,
   "metadata": {},
   "outputs": [],
   "source": [
    "solution = find_solution_of_equation_by_inserting_values(equation, x, {A: 1, B: 0, C: 2}, show_process=True)"
   ]
  },
  {
   "cell_type": "code",
   "execution_count": null,
   "metadata": {},
   "outputs": [],
   "source": [
    "equation = (A*sy.cos(x) + B*sy.sin(x) + C)*(1+b*sy.cos(x-beta)) + (D*sy.cos(x) + E*sy.sin(x) + F)*(1+a*sy.cos(x-alpha)) - N"
   ]
  },
  {
   "cell_type": "code",
   "execution_count": null,
   "metadata": {},
   "outputs": [],
   "source": [
    "temporary_coefficients = get_coefficients_of_trigonometric_expression(equation, x, 2)\n",
    "\n",
    "for c in temporary_coefficients:\n",
    "    print(c)"
   ]
  },
  {
   "cell_type": "code",
   "execution_count": null,
   "metadata": {},
   "outputs": [],
   "source": [
    "equation = A*x**2 + B*x + C + D*x*y + E*x*y + D*x**2 + D + 4*z**4*x\n",
    "\n",
    "print(equation)\n",
    "\n",
    "expr = ComponentwiseExpression(equation)\n",
    "print(expr._expression)\n",
    "\n",
    "expr.split(x)\n",
    "\n",
    "print(expr._expression)\n",
    "\n",
    "expr.split(y)\n",
    "\n",
    "print(expr._expression)\n",
    "\n",
    "expr.split(z)\n",
    "\n",
    "print(expr._expression)\n",
    "\n",
    "expr.prune()\n",
    "\n",
    "print(expr._expression)\n",
    "\n",
    "sy.cancel(expr.sum_up() - equation)\n",
    "\n",
    "expr.show(number_of_ops=0)"
   ]
  },
  {
   "cell_type": "code",
   "execution_count": null,
   "metadata": {},
   "outputs": [],
   "source": [
    "system = DynamicalSystem(\"lorenz\")\n",
    "Math(str(system))"
   ]
  },
  {
   "cell_type": "code",
   "execution_count": null,
   "metadata": {},
   "outputs": [],
   "source": [
    "x,y,z = system._variables\n",
    "beta, sigma, rho = system._parameters"
   ]
  },
  {
   "cell_type": "code",
   "execution_count": null,
   "metadata": {},
   "outputs": [],
   "source": [
    "def get_multivariate_polynomial(variables: list[sy.Symbol], maximum_power: int) -> sy.Expr:\n",
    "    polynomial = 0\n",
    "    for power in range(maximum_power+1):\n",
    "        for var in variables:\n",
    "            polynomial += var**power\n",
    "    return polynomial"
   ]
  },
  {
   "cell_type": "markdown",
   "metadata": {},
   "source": [
    "### reproducing polynomial Koopman eigenfunctions"
   ]
  },
  {
   "cell_type": "code",
   "execution_count": null,
   "metadata": {},
   "outputs": [],
   "source": [
    "a,b,c,ld = sy.symbols('a b c lambda', real = True)\n",
    "\n",
    "observable = a*x**2 + b*y**2 + c*z**2\n",
    "\n",
    "remainder = ComponentwiseExpression(system.get_time_derivative_of_observable(observable) - ld*observable)\n",
    "\n",
    "for var in [x,y,z]:\n",
    "    remainder.split(var)\n",
    "    remainder.prune()\n",
    "\n",
    "#remainder.subs({b: c, a: 0, rho: 0, ld: -2, beta: 1})\n",
    "remainder.subs({b: c, ld: -2*sigma, c: 0, sigma: 0})\n",
    "#remainder.subs({b:c, ld: -2*sigma, sigma: 1, beta:1, a:-c*rho})\n",
    "\n",
    "remainder.prune()\n",
    "\n",
    "remainder.show()"
   ]
  },
  {
   "cell_type": "markdown",
   "metadata": {},
   "source": [
    "### polynomial + exponential"
   ]
  },
  {
   "cell_type": "code",
   "execution_count": null,
   "metadata": {},
   "outputs": [],
   "source": [
    "#def get_polynomial_expression(var):"
   ]
  },
  {
   "cell_type": "code",
   "execution_count": null,
   "metadata": {},
   "outputs": [],
   "source": [
    "a, b, c, d, e, f, g, h ,i, j, k, l, m, n, o, ld = sy.symbols('a b c d e f g h i j k l m n o lambda', real = True)\n",
    "A, B, C, D, E, F, G, H, I, J, K, L, M, N, O = sy.symbols('A B C D E F G H I J K L M N O', real = True)\n",
    "\n",
    "exp_polynomial = A*x + B*y + C*z + D*x**2 + E*y**2 + F*z**2 + G*x*y + H*x*z + I*y*z + J*x**3 + K*y**3 + L*z**3 + M*x**2*z + N*x*y*z + O*y**2*z\n",
    "src_polynomial = a*x + b*y + c*z + d*x**2 + e*y**2 + f*z**2 + g*x*y + h*x*z + i*y*z + j*x**3 + k*y**3 + l*z**3 + m*x**2*z + n*x*y*z + o*y**2*z\n",
    "observable = src_polynomial*sy.exp(exp_polynomial)\n",
    "\n",
    "remainder = componentwise_expression((system.get_time_derivative_of_observable(observable) - ld*observable)*sy.exp(-exp_polynomial))\n",
    "\n",
    "for var in [x,y,z]:\n",
    "    remainder.split(var)\n",
    "    remainder.prune()\n",
    "\n",
    "#solution = {a: 0, H: 0, G: 0, b: c, I:0, B:0, E:F, F:0, rho:0, ld: -2, beta:1, C:0, sigma:0}\n",
    "\n",
    "# trivial solution: \\dot{x} = 0\n",
    "# solution = {H: 0, G: 0, I: 0, F:0, E: 0, C:0, B:0, f:0, i: 0, h: 0, e: 0, c:0, g:0, b:0, sigma:0, ld:0}\n",
    "\n",
    "# Kus 1983 solutions\n",
    "#solution = {H:0, I:0, i:0, N:0, M:0, G:0, B:0, D:0, A:0, E:0, C:0, h:0, b:0, a:0, F:0, m: -4*n*sigma, e: f - 4*n*sigma**2,\n",
    "#            g: 4*beta*n*sigma + 4*ld*n*sigma + 8*n*sigma**2, c:0, f:0}\n",
    "\n",
    "#solution = {H:0, I:0, F:0, f:0, C:0, i:0, ld:-2*sigma, h: 0, b:0, a:0, B:0, n:0, N:0, M:0, E:0, G:0, D:0, m:0, A:0, g:0, e:0, c:-2*d*sigma, beta:2*sigma}\n",
    "\n",
    "solution = {M:0, N:0, O:0, L:0, l:0, I:0, K:0, G:0, k:0, e:0, F:0, E:0, o:0, H:0, J:0, B:0, n:0, f:0, C:0, i:0, D:0, m:0, j:0,d:0, g:0, h:0, a:0, b:0, c:0}\n",
    "\n",
    "remainder.subs(solution)\n",
    "remainder.prune()\n",
    "\n",
    "remainder.show(number_of_ops=3)"
   ]
  },
  {
   "cell_type": "code",
   "execution_count": null,
   "metadata": {},
   "outputs": [],
   "source": [
    "observable.subs(solution)"
   ]
  },
  {
   "cell_type": "markdown",
   "metadata": {},
   "source": [
    "### rational "
   ]
  },
  {
   "cell_type": "code",
   "execution_count": null,
   "metadata": {},
   "outputs": [],
   "source": [
    "a, b, c, d, e, f, g, h ,i, m, n, ld = sy.symbols('a b c d e f g h i m n lambda', real = True)\n",
    "A, B, C, D, E, F, G, H, I, M, N, = sy.symbols('A B C D E F G H I M N', real = True)\n",
    "\n",
    "denominator = A*x + B*y + C*z + D*x**2 + E*y**2 + F*z**2 + G*x*y + H*x*z + I*y*z + M*x**2*z + N*x**4\n",
    "numerator = a*x + b*y + c*z + d*x**2 + e*y**2 + f*z**2 + g*x*y + h*x*z + i*y*z + m*x**2*z + n*x**4\n",
    "\n",
    "observable = numerator/denominator\n",
    "\n",
    "remainder = componentwise_expression((system.get_time_derivative_of_observable(numerator)*denominator - system.get_time_derivative_of_observable(denominator)*numerator - ld*denominator*numerator))\n",
    "\n",
    "for var in [x,y,z]:\n",
    "    remainder.split(var)\n",
    "    remainder.prune()\n",
    "\n",
    "#solution = {a: 0, H: 0, G: 0, b: c, I:0, B:0, E:F, F:0, rho:0, ld: -2, beta:1, C:0, sigma:0}\n",
    "\n",
    "# trivial solution: \\dot{x} = 0\n",
    "# solution = {H: 0, G: 0, I: 0, F:0, E: 0, C:0, B:0, f:0, i: 0, h: 0, e: 0, c:0, g:0, b:0, sigma:0, ld:0}\n",
    "\n",
    "solution = {N: 0, n:0, F: 0, f: 0, C:0, c:0, m:0, M:0} #N:0, M:0, H:0, G:0, I:0, B:0, i:0, h:0, F:0, b:0, a:0, c:0, f:0, A:0, E: 0}\n",
    "#solution = {H:0, I:0, i:0, N:0, M:0, G:0, B:0, D:0, A:0, E:0, C:0, h:0, b:0, a:0, F:0, m: -4*n*sigma, e: f - 4*n*sigma**2,\n",
    "#            g: 4*beta*n*sigma + 4*ld*n*sigma + 8*n*sigma**2, c:0, f:0}\n",
    "\n",
    "remainder.subs(solution)\n",
    "remainder.prune()\n",
    "\n",
    "remainder.show(number_of_ops=3)"
   ]
  },
  {
   "cell_type": "code",
   "execution_count": null,
   "metadata": {},
   "outputs": [],
   "source": [
    "observable.subs(solution)"
   ]
  },
  {
   "cell_type": "markdown",
   "metadata": {},
   "source": [
    "# van der Pol"
   ]
  },
  {
   "cell_type": "code",
   "execution_count": null,
   "metadata": {},
   "outputs": [],
   "source": [
    "system = DynamicalSystem(\"van_der_Pol\")\n",
    "Math(str(system))"
   ]
  },
  {
   "cell_type": "code",
   "execution_count": null,
   "metadata": {},
   "outputs": [],
   "source": [
    "x,y = system._variables\n",
    "eps, = system._parameters"
   ]
  },
  {
   "cell_type": "code",
   "execution_count": null,
   "metadata": {},
   "outputs": [],
   "source": [
    "a, b, c, d, e, f, g, h ,i, j, ld = sy.symbols('a b c d e f g h i j lambda', real = True)\n",
    "A, B, C, D, E, F, G, H, I, J, = sy.symbols('A B C D E F G H I J', real = True)\n",
    "\n",
    "poly_1 = A + B*x + C*y + D*x**2 + E*x*y + F*y**2 + G*x**3 + H*x**2*y + I*x*y**2 + J*y**3\n",
    "poly_2 = a + b*x + c*y + d*x**2 + e*x*y + f*y**2 + g*x**3 + h*x**2*y + i*x*y**2 + j*y**3"
   ]
  },
  {
   "cell_type": "code",
   "execution_count": null,
   "metadata": {},
   "outputs": [],
   "source": [
    "observable, remainder = get_remainder_with_exponential_ansatz(system, poly_1, poly_2, ld)\n",
    "\n",
    "for var in [x,y]:\n",
    "    remainder.split(var)\n",
    "    remainder.prune()\n",
    "\n",
    "solution = {A: 0, C: -B*ld, E: B*c, H: B*e, G:0, h:0, J:0, e:0, D:0, i:0, j:0, f:0, I: F*(b + c*eps), F: -B*b/2 - B*c*ld, g:0, b:-c*eps, c:0}\n",
    "\n",
    "remainder.subs(solution)\n",
    "remainder.prune()\n",
    "\n",
    "remainder.show() #number_of_ops=10)"
   ]
  },
  {
   "cell_type": "code",
   "execution_count": null,
   "metadata": {},
   "outputs": [],
   "source": [
    "observable.subs(solution)"
   ]
  }
 ],
 "metadata": {
  "kernelspec": {
   "display_name": "work",
   "language": "python",
   "name": "python3"
  },
  "language_info": {
   "codemirror_mode": {
    "name": "ipython",
    "version": 3
   },
   "file_extension": ".py",
   "mimetype": "text/x-python",
   "name": "python",
   "nbconvert_exporter": "python",
   "pygments_lexer": "ipython3",
   "version": "3.12.3"
  }
 },
 "nbformat": 4,
 "nbformat_minor": 2
}
