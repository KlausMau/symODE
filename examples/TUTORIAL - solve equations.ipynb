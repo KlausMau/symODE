{
 "cells": [
  {
   "cell_type": "code",
   "execution_count": 20,
   "metadata": {},
   "outputs": [],
   "source": [
    "import sys\n",
    "sys.path.insert(0, '..')\n",
    "\n",
    "import sympy as sy\n",
    "from src.dynamical_system import DynamicalSystem\n",
    "from src.componentwise_expression import ComponentwiseExpression\n",
    "from src.util import *"
   ]
  },
  {
   "cell_type": "code",
   "execution_count": 12,
   "metadata": {},
   "outputs": [],
   "source": [
    "A,B,C,D,E,F,N = sy.symbols('A B C D E F N', real = True)\n",
    "a,b,c,alpha,beta = sy.symbols('a b c alpha beta', real = True)\n",
    "\n",
    "x,y,z = sy.symbols('x y z', real = True)\n",
    "\n",
    "equation = A + B*x + C*x**2"
   ]
  },
  {
   "cell_type": "code",
   "execution_count": 13,
   "metadata": {},
   "outputs": [
    {
     "name": "stdout",
     "output_type": "stream",
     "text": [
      "A=-B - C\n",
      "B=-C\n",
      "C=0\n",
      "remaining terms of equation:\n",
      "0\n"
     ]
    }
   ],
   "source": [
    "solution = find_solution_of_equation_by_inserting_values(equation, x, {A: 1, B: 0, C: 2}, show_process=True)"
   ]
  },
  {
   "cell_type": "code",
   "execution_count": 14,
   "metadata": {},
   "outputs": [],
   "source": [
    "equation = (A*sy.cos(x) + B*sy.sin(x) + C)*(1+b*sy.cos(x-beta)) + (D*sy.cos(x) + E*sy.sin(x) + F)*(1+a*sy.cos(x-alpha)) - N"
   ]
  },
  {
   "cell_type": "code",
   "execution_count": 15,
   "metadata": {},
   "outputs": [
    {
     "name": "stdout",
     "output_type": "stream",
     "text": [
      "A*b*cos(beta)/4 - B*b*sin(beta)/4 + D*a*cos(alpha)/4 - E*a*sin(alpha)/4\n",
      "-A*b*sin(beta)/4 - B*b*cos(beta)/4 - D*a*sin(alpha)/4 - E*a*cos(alpha)/4\n",
      "A/2 + C*b*cos(beta)/2 + D/2 + F*a*cos(alpha)/2\n",
      "-B/2 - C*b*sin(beta)/2 - E/2 - F*a*sin(alpha)/2\n",
      "A*b*cos(beta)/2 + B*b*sin(beta)/2 + C + D*a*cos(alpha)/2 + E*a*sin(alpha)/2 + F - N\n"
     ]
    }
   ],
   "source": [
    "temporary_coefficients = get_coefficients_of_trigonometric_expression(equation, x, 2)\n",
    "\n",
    "for c in temporary_coefficients:\n",
    "    print(c)"
   ]
  },
  {
   "cell_type": "code",
   "execution_count": 16,
   "metadata": {},
   "outputs": [
    {
     "name": "stdout",
     "output_type": "stream",
     "text": [
      "A*x**2 + B*x + C + D*x**2 + D*x*y + D + E*x*y + 4*x*z**4\n",
      "{1: A*x**2 + B*x + C + D*x**2 + D*x*y + D + E*x*y + 4*x*z**4}\n",
      "{x**2: A + D, x: B + D*y + E*y + 4*z**4, 1: C + D}\n",
      "{x**2: A + D, x*y: D + E, x: B + 4*z**4, 1: C + D}\n",
      "{x**2: A + D, x*y: D + E, x*z**4: 4, x*z**3: 0, x*z**2: 0, x*z: 0, x: B, 1: C + D}\n",
      "{x**2: A + D, x*y: D + E, x*z**4: 4, x: B, 1: C + D}\n",
      "x*z**4: 4\n",
      "x: B\n"
     ]
    }
   ],
   "source": [
    "equation = A*x**2 + B*x + C + D*x*y + E*x*y + D*x**2 + D + 4*z**4*x\n",
    "\n",
    "print(equation)\n",
    "\n",
    "expr = ComponentwiseExpression(equation)\n",
    "print(expr._expression)\n",
    "\n",
    "expr.split(x)\n",
    "\n",
    "print(expr._expression)\n",
    "\n",
    "expr.split(y)\n",
    "\n",
    "print(expr._expression)\n",
    "\n",
    "expr.split(z)\n",
    "\n",
    "print(expr._expression)\n",
    "\n",
    "expr.prune()\n",
    "\n",
    "print(expr._expression)\n",
    "\n",
    "sy.cancel(expr.sum_up() - equation)\n",
    "\n",
    "expr.show(number_of_ops=0)"
   ]
  },
  {
   "cell_type": "code",
   "execution_count": 17,
   "metadata": {},
   "outputs": [
    {
     "data": {
      "text/latex": [
       "$\\displaystyle \\dot x = \\sigma \\left(- x + y\\right) \\\\\\\\\\dot y = x \\left(\\rho - z\\right) - y \\\\\\\\\\dot z = - \\beta z + x y \\\\\\\\$"
      ],
      "text/plain": [
       "<IPython.core.display.Math object>"
      ]
     },
     "metadata": {},
     "output_type": "display_data"
    }
   ],
   "source": [
    "system = DynamicalSystem(\"lorenz\")\n",
    "system.show()"
   ]
  },
  {
   "cell_type": "code",
   "execution_count": 18,
   "metadata": {},
   "outputs": [],
   "source": [
    "x,y,z = system._variables\n",
    "beta, sigma, rho = system._parameters"
   ]
  },
  {
   "cell_type": "code",
   "execution_count": null,
   "metadata": {},
   "outputs": [],
   "source": [
    "def get_multivariate_polynomial(variables: list[sy.Symbol], maximum_power: int) -> sy.Expr:\n",
    "    polynomial = 0\n",
    "    for power in range(maximum_power+1):\n",
    "        for var in variables:\n",
    "            polynomial += var**power\n",
    "    return polynomial"
   ]
  },
  {
   "cell_type": "markdown",
   "metadata": {},
   "source": [
    "### reproducing polynomial Koopman eigenfunctions"
   ]
  },
  {
   "cell_type": "code",
   "execution_count": 19,
   "metadata": {},
   "outputs": [],
   "source": [
    "a,b,c,ld = sy.symbols('a b c lambda', real = True)\n",
    "\n",
    "observable = a*x**2 + b*y**2 + c*z**2\n",
    "\n",
    "remainder = ComponentwiseExpression(system.get_time_derivative_of_observable(observable) - ld*observable)\n",
    "\n",
    "for var in [x,y,z]:\n",
    "    remainder.split(var)\n",
    "    remainder.prune()\n",
    "\n",
    "#remainder.subs({b: c, a: 0, rho: 0, ld: -2, beta: 1})\n",
    "remainder.subs({b: c, ld: -2*sigma, c: 0, sigma: 0})\n",
    "#remainder.subs({b:c, ld: -2*sigma, sigma: 1, beta:1, a:-c*rho})\n",
    "\n",
    "remainder.prune()\n",
    "\n",
    "remainder.show()"
   ]
  },
  {
   "cell_type": "markdown",
   "metadata": {},
   "source": [
    "### polynomial + exponential"
   ]
  },
  {
   "cell_type": "code",
   "execution_count": 342,
   "metadata": {},
   "outputs": [],
   "source": [
    "#def get_polynomial_expression(var):"
   ]
  },
  {
   "cell_type": "code",
   "execution_count": 379,
   "metadata": {},
   "outputs": [],
   "source": [
    "a, b, c, d, e, f, g, h ,i, j, k, l, m, n, o, ld = sy.symbols('a b c d e f g h i j k l m n o lambda', real = True)\n",
    "A, B, C, D, E, F, G, H, I, J, K, L, M, N, O = sy.symbols('A B C D E F G H I J K L M N O', real = True)\n",
    "\n",
    "exp_polynomial = A*x + B*y + C*z + D*x**2 + E*y**2 + F*z**2 + G*x*y + H*x*z + I*y*z + J*x**3 + K*y**3 + L*z**3 + M*x**2*z + N*x*y*z + O*y**2*z\n",
    "src_polynomial = a*x + b*y + c*z + d*x**2 + e*y**2 + f*z**2 + g*x*y + h*x*z + i*y*z + j*x**3 + k*y**3 + l*z**3 + m*x**2*z + n*x*y*z + o*y**2*z\n",
    "observable = src_polynomial*sy.exp(exp_polynomial)\n",
    "\n",
    "remainder = componentwise_expression((system.get_time_derivative_of_observable(observable) - ld*observable)*sy.exp(-exp_polynomial))\n",
    "\n",
    "for var in [x,y,z]:\n",
    "    remainder.split(var)\n",
    "    remainder.prune()\n",
    "\n",
    "#solution = {a: 0, H: 0, G: 0, b: c, I:0, B:0, E:F, F:0, rho:0, ld: -2, beta:1, C:0, sigma:0}\n",
    "\n",
    "# trivial solution: \\dot{x} = 0\n",
    "# solution = {H: 0, G: 0, I: 0, F:0, E: 0, C:0, B:0, f:0, i: 0, h: 0, e: 0, c:0, g:0, b:0, sigma:0, ld:0}\n",
    "\n",
    "# Kus 1983 solutions\n",
    "#solution = {H:0, I:0, i:0, N:0, M:0, G:0, B:0, D:0, A:0, E:0, C:0, h:0, b:0, a:0, F:0, m: -4*n*sigma, e: f - 4*n*sigma**2,\n",
    "#            g: 4*beta*n*sigma + 4*ld*n*sigma + 8*n*sigma**2, c:0, f:0}\n",
    "\n",
    "#solution = {H:0, I:0, F:0, f:0, C:0, i:0, ld:-2*sigma, h: 0, b:0, a:0, B:0, n:0, N:0, M:0, E:0, G:0, D:0, m:0, A:0, g:0, e:0, c:-2*d*sigma, beta:2*sigma}\n",
    "\n",
    "solution = {M:0, N:0, O:0, L:0, l:0, I:0, K:0, G:0, k:0, e:0, F:0, E:0, o:0, H:0, J:0, B:0, n:0, f:0, C:0, i:0, D:0, m:0, j:0,d:0, g:0, h:0, a:0, b:0, c:0}\n",
    "\n",
    "remainder.subs(solution)\n",
    "remainder.prune()\n",
    "\n",
    "remainder.show(number_of_ops=3)"
   ]
  },
  {
   "cell_type": "code",
   "execution_count": 380,
   "metadata": {},
   "outputs": [
    {
     "data": {
      "text/latex": [
       "$\\displaystyle 0$"
      ],
      "text/plain": [
       "0"
      ]
     },
     "execution_count": 380,
     "metadata": {},
     "output_type": "execute_result"
    }
   ],
   "source": [
    "observable.subs(solution)"
   ]
  },
  {
   "cell_type": "markdown",
   "metadata": {},
   "source": [
    "### rational "
   ]
  },
  {
   "cell_type": "code",
   "execution_count": null,
   "metadata": {},
   "outputs": [
    {
     "name": "stdout",
     "output_type": "stream",
     "text": [
      "x**4*y: D*h - H*d\n",
      "x**4*z: -D*g + G*d\n",
      "x**2*y**2*z: E*g - G*e\n",
      "x**2*z**3: -H*i + I*h\n",
      "x*y**4: E*i - I*e\n",
      "x*y**2*z**2: E*i - I*e\n"
     ]
    }
   ],
   "source": [
    "a, b, c, d, e, f, g, h ,i, m, n, ld = sy.symbols('a b c d e f g h i m n lambda', real = True)\n",
    "A, B, C, D, E, F, G, H, I, M, N, = sy.symbols('A B C D E F G H I M N', real = True)\n",
    "\n",
    "denominator = A*x + B*y + C*z + D*x**2 + E*y**2 + F*z**2 + G*x*y + H*x*z + I*y*z + M*x**2*z + N*x**4\n",
    "numerator = a*x + b*y + c*z + d*x**2 + e*y**2 + f*z**2 + g*x*y + h*x*z + i*y*z + m*x**2*z + n*x**4\n",
    "\n",
    "observable = numerator/denominator\n",
    "\n",
    "remainder = componentwise_expression((system.get_time_derivative_of_observable(numerator)*denominator - system.get_time_derivative_of_observable(denominator)*numerator - ld*denominator*numerator))\n",
    "\n",
    "for var in [x,y,z]:\n",
    "    remainder.split(var)\n",
    "    remainder.prune()\n",
    "\n",
    "#solution = {a: 0, H: 0, G: 0, b: c, I:0, B:0, E:F, F:0, rho:0, ld: -2, beta:1, C:0, sigma:0}\n",
    "\n",
    "# trivial solution: \\dot{x} = 0\n",
    "# solution = {H: 0, G: 0, I: 0, F:0, E: 0, C:0, B:0, f:0, i: 0, h: 0, e: 0, c:0, g:0, b:0, sigma:0, ld:0}\n",
    "\n",
    "solution = {N: 0, n:0, F: 0, f: 0, C:0, c:0, m:0, M:0} #N:0, M:0, H:0, G:0, I:0, B:0, i:0, h:0, F:0, b:0, a:0, c:0, f:0, A:0, E: 0}\n",
    "#solution = {H:0, I:0, i:0, N:0, M:0, G:0, B:0, D:0, A:0, E:0, C:0, h:0, b:0, a:0, F:0, m: -4*n*sigma, e: f - 4*n*sigma**2,\n",
    "#            g: 4*beta*n*sigma + 4*ld*n*sigma + 8*n*sigma**2, c:0, f:0}\n",
    "\n",
    "remainder.subs(solution)\n",
    "remainder.prune()\n",
    "\n",
    "remainder.show(number_of_ops=3)"
   ]
  },
  {
   "cell_type": "code",
   "execution_count": 385,
   "metadata": {},
   "outputs": [
    {
     "data": {
      "text/latex": [
       "$\\displaystyle \\frac{a x + b y + d x^{2} + e y^{2} + g x y + h x z + i y z}{A x + B y + D x^{2} + E y^{2} + G x y + H x z + I y z + J x^{3} + K y^{3} + L z^{3} + O y^{2} z}$"
      ],
      "text/plain": [
       "(a*x + b*y + d*x**2 + e*y**2 + g*x*y + h*x*z + i*y*z)/(A*x + B*y + D*x**2 + E*y**2 + G*x*y + H*x*z + I*y*z + J*x**3 + K*y**3 + L*z**3 + O*y**2*z)"
      ]
     },
     "execution_count": 385,
     "metadata": {},
     "output_type": "execute_result"
    }
   ],
   "source": [
    "observable.subs(solution)"
   ]
  },
  {
   "cell_type": "markdown",
   "metadata": {},
   "source": [
    "# van der Pol"
   ]
  },
  {
   "cell_type": "code",
   "execution_count": 4,
   "metadata": {},
   "outputs": [
    {
     "data": {
      "text/latex": [
       "$\\displaystyle \\dot x = y \\\\\\\\\\dot y = \\epsilon y \\left(1 - x^{2}\\right) - x \\\\\\\\$"
      ],
      "text/plain": [
       "<IPython.core.display.Math object>"
      ]
     },
     "metadata": {},
     "output_type": "display_data"
    }
   ],
   "source": [
    "system = DynamicalSystem(\"van_der_Pol\")\n",
    "system.show()"
   ]
  },
  {
   "cell_type": "code",
   "execution_count": 104,
   "metadata": {},
   "outputs": [],
   "source": [
    "x,y = system._variables\n",
    "eps, = system._parameters"
   ]
  },
  {
   "cell_type": "code",
   "execution_count": 79,
   "metadata": {},
   "outputs": [],
   "source": [
    "a, b, c, d, e, f, g, h ,i, j, ld = sy.symbols('a b c d e f g h i j lambda', real = True)\n",
    "A, B, C, D, E, F, G, H, I, J, = sy.symbols('A B C D E F G H I J', real = True)\n",
    "\n",
    "poly_1 = A + B*x + C*y + D*x**2 + E*x*y + F*y**2 + G*x**3 + H*x**2*y + I*x*y**2 + J*y**3\n",
    "poly_2 = a + b*x + c*y + d*x**2 + e*x*y + f*y**2 + g*x**3 + h*x**2*y + i*x*y**2 + j*y**3"
   ]
  },
  {
   "cell_type": "code",
   "execution_count": 123,
   "metadata": {},
   "outputs": [
    {
     "name": "stdout",
     "output_type": "stream",
     "text": [
      "x**2*y: -2*B*d + B*epsilon*lambda\n",
      "x*y**2: 2*B*d*lambda\n",
      "y: -B*epsilon*lambda + B*lambda**2 + B\n"
     ]
    }
   ],
   "source": [
    "observable, remainder = get_remainder_with_exponential_ansatz(system, poly_1, poly_2, ld)\n",
    "\n",
    "for var in [x,y]:\n",
    "    remainder.split(var)\n",
    "    remainder.prune()\n",
    "\n",
    "solution = {A: 0, C: -B*ld, E: B*c, H: B*e, G:0, h:0, J:0, e:0, D:0, i:0, j:0, f:0, I: F*(b + c*eps), F: -B*b/2 - B*c*ld, g:0, b:-c*eps, c:0}\n",
    "\n",
    "remainder.subs(solution)\n",
    "remainder.prune()\n",
    "\n",
    "remainder.show() #number_of_ops=10)"
   ]
  },
  {
   "cell_type": "code",
   "execution_count": 124,
   "metadata": {},
   "outputs": [
    {
     "data": {
      "text/latex": [
       "$\\displaystyle \\left(- B \\lambda y + B x\\right) e^{a + d x^{2}}$"
      ],
      "text/plain": [
       "(-B*lambda*y + B*x)*exp(a + d*x**2)"
      ]
     },
     "execution_count": 124,
     "metadata": {},
     "output_type": "execute_result"
    }
   ],
   "source": [
    "observable.subs(solution)"
   ]
  }
 ],
 "metadata": {
  "kernelspec": {
   "display_name": "work",
   "language": "python",
   "name": "python3"
  },
  "language_info": {
   "codemirror_mode": {
    "name": "ipython",
    "version": 3
   },
   "file_extension": ".py",
   "mimetype": "text/x-python",
   "name": "python",
   "nbconvert_exporter": "python",
   "pygments_lexer": "ipython3",
   "version": "3.12.3"
  }
 },
 "nbformat": 4,
 "nbformat_minor": 2
}
