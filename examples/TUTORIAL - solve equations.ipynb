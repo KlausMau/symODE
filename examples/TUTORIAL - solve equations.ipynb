{
 "cells": [
  {
   "cell_type": "code",
   "execution_count": null,
   "metadata": {},
   "outputs": [],
   "source": [
    "import sympy as sy\n",
    "from src.dynamical_system import DynamicalSystem\n",
    "from src.componentwise_expression import ComponentwiseExpression\n",
    "from src.util import *"
   ]
  },
  {
   "cell_type": "code",
   "execution_count": null,
   "metadata": {},
   "outputs": [],
   "source": [
    "A, B, C, D, E, F, N = sy.symbols(\"A B C D E F N\", real=True)\n",
    "a, b, c, alpha, beta = sy.symbols(\"a b c alpha beta\", real=True)\n",
    "\n",
    "x, y, z = sy.symbols(\"x y z\", real=True)\n",
    "\n",
    "equation = A + B * x + C * x**2"
   ]
  },
  {
   "cell_type": "code",
   "execution_count": null,
   "metadata": {},
   "outputs": [],
   "source": [
    "solution = find_solution_of_equation_by_inserting_values(\n",
    "    equation, x, {A: 1, B: 0, C: 2}, show_process=True\n",
    ")"
   ]
  },
  {
   "cell_type": "code",
   "execution_count": null,
   "metadata": {},
   "outputs": [],
   "source": [
    "equation = (\n",
    "    (A * sy.cos(x) + B * sy.sin(x) + C) * (1 + b * sy.cos(x - beta))\n",
    "    + (D * sy.cos(x) + E * sy.sin(x) + F) * (1 + a * sy.cos(x - alpha))\n",
    "    - N\n",
    ")"
   ]
  },
  {
   "cell_type": "code",
   "execution_count": null,
   "metadata": {},
   "outputs": [],
   "source": [
    "temporary_coefficients = get_coefficients_of_trigonometric_expression(equation, x, 2)\n",
    "\n",
    "for c in temporary_coefficients:\n",
    "    print(c)"
   ]
  },
  {
   "cell_type": "code",
   "execution_count": null,
   "metadata": {},
   "outputs": [],
   "source": [
    "equation = A * x**2 + B * x + C + D * x * y + E * x * y + D * x**2 + D + 4 * z**4 * x\n",
    "\n",
    "print(equation)\n",
    "\n",
    "expr = ComponentwiseExpression(equation)\n",
    "print(expr._expression)\n",
    "\n",
    "expr.split(x)\n",
    "\n",
    "print(expr._expression)\n",
    "\n",
    "expr.split(y)\n",
    "\n",
    "print(expr._expression)\n",
    "\n",
    "expr.split(z)\n",
    "\n",
    "print(expr._expression)\n",
    "\n",
    "expr.prune()\n",
    "\n",
    "print(expr._expression)\n",
    "\n",
    "sy.cancel(expr.sum_up() - equation)\n",
    "\n",
    "expr.show(number_of_ops=0)"
   ]
  },
  {
   "cell_type": "code",
   "execution_count": null,
   "metadata": {},
   "outputs": [],
   "source": [
    "system = DynamicalSystem(\"lorenz\")\n",
    "Math(str(system))"
   ]
  },
  {
   "cell_type": "code",
   "execution_count": null,
   "metadata": {},
   "outputs": [],
   "source": [
    "x, y, z = system._variables\n",
    "beta, sigma, rho = system._parameters"
   ]
  },
  {
   "cell_type": "code",
   "execution_count": null,
   "metadata": {},
   "outputs": [],
   "source": [
    "def get_multivariate_polynomial(\n",
    "    variables: list[sy.Symbol], maximum_power: int\n",
    ") -> sy.Expr:\n",
    "    polynomial = 0\n",
    "    for power in range(maximum_power + 1):\n",
    "        for var in variables:\n",
    "            polynomial += var**power\n",
    "    return polynomial"
   ]
  },
  {
   "cell_type": "markdown",
   "metadata": {},
   "source": [
    "### reproducing polynomial Koopman eigenfunctions"
   ]
  },
  {
   "cell_type": "code",
   "execution_count": null,
   "metadata": {},
   "outputs": [],
   "source": [
    "a, b, c, ld = sy.symbols(\"a b c lambda\", real=True)\n",
    "\n",
    "observable = a * x**2 + b * y**2 + c * z**2\n",
    "\n",
    "remainder = ComponentwiseExpression(\n",
    "    system.get_time_derivative_of_observable(observable) - ld * observable\n",
    ")\n",
    "\n",
    "for var in [x, y, z]:\n",
    "    remainder.split(var)\n",
    "    remainder.prune()\n",
    "\n",
    "# remainder.subs({b: c, a: 0, rho: 0, ld: -2, beta: 1})\n",
    "remainder.subs({b: c, ld: -2 * sigma, c: 0, sigma: 0})\n",
    "# remainder.subs({b:c, ld: -2*sigma, sigma: 1, beta:1, a:-c*rho})\n",
    "\n",
    "remainder.prune()\n",
    "\n",
    "remainder.show()"
   ]
  },
  {
   "cell_type": "markdown",
   "metadata": {},
   "source": [
    "### polynomial + exponential"
   ]
  },
  {
   "cell_type": "code",
   "execution_count": null,
   "metadata": {},
   "outputs": [],
   "source": [
    "# def get_polynomial_expression(var):"
   ]
  },
  {
   "cell_type": "code",
   "execution_count": null,
   "metadata": {},
   "outputs": [],
   "source": [
    "a, b, c, d, e, f, g, h, i, j, k, l, m, n, o, ld = sy.symbols(\n",
    "    \"a b c d e f g h i j k l m n o lambda\", real=True\n",
    ")\n",
    "A, B, C, D, E, F, G, H, I, J, K, L, M, N, O = sy.symbols(\n",
    "    \"A B C D E F G H I J K L M N O\", real=True\n",
    ")\n",
    "\n",
    "exp_polynomial = (\n",
    "    A * x\n",
    "    + B * y\n",
    "    + C * z\n",
    "    + D * x**2\n",
    "    + E * y**2\n",
    "    + F * z**2\n",
    "    + G * x * y\n",
    "    + H * x * z\n",
    "    + I * y * z\n",
    "    + J * x**3\n",
    "    + K * y**3\n",
    "    + L * z**3\n",
    "    + M * x**2 * z\n",
    "    + N * x * y * z\n",
    "    + O * y**2 * z\n",
    ")\n",
    "src_polynomial = (\n",
    "    a * x\n",
    "    + b * y\n",
    "    + c * z\n",
    "    + d * x**2\n",
    "    + e * y**2\n",
    "    + f * z**2\n",
    "    + g * x * y\n",
    "    + h * x * z\n",
    "    + i * y * z\n",
    "    + j * x**3\n",
    "    + k * y**3\n",
    "    + l * z**3\n",
    "    + m * x**2 * z\n",
    "    + n * x * y * z\n",
    "    + o * y**2 * z\n",
    ")\n",
    "observable = src_polynomial * sy.exp(exp_polynomial)\n",
    "\n",
    "remainder = componentwise_expression(\n",
    "    (system.get_time_derivative_of_observable(observable) - ld * observable)\n",
    "    * sy.exp(-exp_polynomial)\n",
    ")\n",
    "\n",
    "for var in [x, y, z]:\n",
    "    remainder.split(var)\n",
    "    remainder.prune()\n",
    "\n",
    "# solution = {a: 0, H: 0, G: 0, b: c, I:0, B:0, E:F, F:0, rho:0, ld: -2, beta:1, C:0, sigma:0}\n",
    "\n",
    "# trivial solution: \\dot{x} = 0\n",
    "# solution = {H: 0, G: 0, I: 0, F:0, E: 0, C:0, B:0, f:0, i: 0, h: 0, e: 0, c:0, g:0, b:0, sigma:0, ld:0}\n",
    "\n",
    "# Kus 1983 solutions\n",
    "# solution = {H:0, I:0, i:0, N:0, M:0, G:0, B:0, D:0, A:0, E:0, C:0, h:0, b:0, a:0, F:0, m: -4*n*sigma, e: f - 4*n*sigma**2,\n",
    "#            g: 4*beta*n*sigma + 4*ld*n*sigma + 8*n*sigma**2, c:0, f:0}\n",
    "\n",
    "# solution = {H:0, I:0, F:0, f:0, C:0, i:0, ld:-2*sigma, h: 0, b:0, a:0, B:0, n:0, N:0, M:0, E:0, G:0, D:0, m:0, A:0, g:0, e:0, c:-2*d*sigma, beta:2*sigma}\n",
    "\n",
    "solution = {\n",
    "    M: 0,\n",
    "    N: 0,\n",
    "    O: 0,\n",
    "    L: 0,\n",
    "    l: 0,\n",
    "    I: 0,\n",
    "    K: 0,\n",
    "    G: 0,\n",
    "    k: 0,\n",
    "    e: 0,\n",
    "    F: 0,\n",
    "    E: 0,\n",
    "    o: 0,\n",
    "    H: 0,\n",
    "    J: 0,\n",
    "    B: 0,\n",
    "    n: 0,\n",
    "    f: 0,\n",
    "    C: 0,\n",
    "    i: 0,\n",
    "    D: 0,\n",
    "    m: 0,\n",
    "    j: 0,\n",
    "    d: 0,\n",
    "    g: 0,\n",
    "    h: 0,\n",
    "    a: 0,\n",
    "    b: 0,\n",
    "    c: 0,\n",
    "}\n",
    "\n",
    "remainder.subs(solution)\n",
    "remainder.prune()\n",
    "\n",
    "remainder.show(number_of_ops=3)"
   ]
  },
  {
   "cell_type": "code",
   "execution_count": null,
   "metadata": {},
   "outputs": [],
   "source": [
    "observable.subs(solution)"
   ]
  },
  {
   "cell_type": "markdown",
   "metadata": {},
   "source": [
    "### rational "
   ]
  },
  {
   "cell_type": "code",
   "execution_count": null,
   "metadata": {},
   "outputs": [],
   "source": [
    "a, b, c, d, e, f, g, h, i, m, n, ld = sy.symbols(\n",
    "    \"a b c d e f g h i m n lambda\", real=True\n",
    ")\n",
    "(\n",
    "    A,\n",
    "    B,\n",
    "    C,\n",
    "    D,\n",
    "    E,\n",
    "    F,\n",
    "    G,\n",
    "    H,\n",
    "    I,\n",
    "    M,\n",
    "    N,\n",
    ") = sy.symbols(\"A B C D E F G H I M N\", real=True)\n",
    "\n",
    "denominator = (\n",
    "    A * x\n",
    "    + B * y\n",
    "    + C * z\n",
    "    + D * x**2\n",
    "    + E * y**2\n",
    "    + F * z**2\n",
    "    + G * x * y\n",
    "    + H * x * z\n",
    "    + I * y * z\n",
    "    + M * x**2 * z\n",
    "    + N * x**4\n",
    ")\n",
    "numerator = (\n",
    "    a * x\n",
    "    + b * y\n",
    "    + c * z\n",
    "    + d * x**2\n",
    "    + e * y**2\n",
    "    + f * z**2\n",
    "    + g * x * y\n",
    "    + h * x * z\n",
    "    + i * y * z\n",
    "    + m * x**2 * z\n",
    "    + n * x**4\n",
    ")\n",
    "\n",
    "observable = numerator / denominator\n",
    "\n",
    "remainder = componentwise_expression(\n",
    "    (\n",
    "        system.get_time_derivative_of_observable(numerator) * denominator\n",
    "        - system.get_time_derivative_of_observable(denominator) * numerator\n",
    "        - ld * denominator * numerator\n",
    "    )\n",
    ")\n",
    "\n",
    "for var in [x, y, z]:\n",
    "    remainder.split(var)\n",
    "    remainder.prune()\n",
    "\n",
    "# solution = {a: 0, H: 0, G: 0, b: c, I:0, B:0, E:F, F:0, rho:0, ld: -2, beta:1, C:0, sigma:0}\n",
    "\n",
    "# trivial solution: \\dot{x} = 0\n",
    "# solution = {H: 0, G: 0, I: 0, F:0, E: 0, C:0, B:0, f:0, i: 0, h: 0, e: 0, c:0, g:0, b:0, sigma:0, ld:0}\n",
    "\n",
    "solution = {\n",
    "    N: 0,\n",
    "    n: 0,\n",
    "    F: 0,\n",
    "    f: 0,\n",
    "    C: 0,\n",
    "    c: 0,\n",
    "    m: 0,\n",
    "    M: 0,\n",
    "}  # N:0, M:0, H:0, G:0, I:0, B:0, i:0, h:0, F:0, b:0, a:0, c:0, f:0, A:0, E: 0}\n",
    "# solution = {H:0, I:0, i:0, N:0, M:0, G:0, B:0, D:0, A:0, E:0, C:0, h:0, b:0, a:0, F:0, m: -4*n*sigma, e: f - 4*n*sigma**2,\n",
    "#            g: 4*beta*n*sigma + 4*ld*n*sigma + 8*n*sigma**2, c:0, f:0}\n",
    "\n",
    "remainder.subs(solution)\n",
    "remainder.prune()\n",
    "\n",
    "remainder.show(number_of_ops=3)"
   ]
  },
  {
   "cell_type": "code",
   "execution_count": null,
   "metadata": {},
   "outputs": [],
   "source": [
    "observable.subs(solution)"
   ]
  },
  {
   "cell_type": "markdown",
   "metadata": {},
   "source": [
    "# van der Pol"
   ]
  },
  {
   "cell_type": "code",
   "execution_count": null,
   "metadata": {},
   "outputs": [],
   "source": [
    "system = DynamicalSystem(\"van_der_Pol\")\n",
    "Math(str(system))"
   ]
  },
  {
   "cell_type": "code",
   "execution_count": null,
   "metadata": {},
   "outputs": [],
   "source": [
    "x, y = system._variables\n",
    "(eps,) = system._parameters"
   ]
  },
  {
   "cell_type": "code",
   "execution_count": null,
   "metadata": {},
   "outputs": [],
   "source": [
    "a, b, c, d, e, f, g, h, i, j, ld = sy.symbols(\"a b c d e f g h i j lambda\", real=True)\n",
    "(\n",
    "    A,\n",
    "    B,\n",
    "    C,\n",
    "    D,\n",
    "    E,\n",
    "    F,\n",
    "    G,\n",
    "    H,\n",
    "    I,\n",
    "    J,\n",
    ") = sy.symbols(\"A B C D E F G H I J\", real=True)\n",
    "\n",
    "poly_1 = (\n",
    "    A\n",
    "    + B * x\n",
    "    + C * y\n",
    "    + D * x**2\n",
    "    + E * x * y\n",
    "    + F * y**2\n",
    "    + G * x**3\n",
    "    + H * x**2 * y\n",
    "    + I * x * y**2\n",
    "    + J * y**3\n",
    ")\n",
    "poly_2 = (\n",
    "    a\n",
    "    + b * x\n",
    "    + c * y\n",
    "    + d * x**2\n",
    "    + e * x * y\n",
    "    + f * y**2\n",
    "    + g * x**3\n",
    "    + h * x**2 * y\n",
    "    + i * x * y**2\n",
    "    + j * y**3\n",
    ")"
   ]
  },
  {
   "cell_type": "code",
   "execution_count": null,
   "metadata": {},
   "outputs": [],
   "source": [
    "observable, remainder = get_remainder_with_exponential_ansatz(\n",
    "    system, poly_1, poly_2, ld\n",
    ")\n",
    "\n",
    "for var in [x, y]:\n",
    "    remainder.split(var)\n",
    "    remainder.prune()\n",
    "\n",
    "solution = {\n",
    "    A: 0,\n",
    "    C: -B * ld,\n",
    "    E: B * c,\n",
    "    H: B * e,\n",
    "    G: 0,\n",
    "    h: 0,\n",
    "    J: 0,\n",
    "    e: 0,\n",
    "    D: 0,\n",
    "    i: 0,\n",
    "    j: 0,\n",
    "    f: 0,\n",
    "    I: F * (b + c * eps),\n",
    "    F: -B * b / 2 - B * c * ld,\n",
    "    g: 0,\n",
    "    b: -c * eps,\n",
    "    c: 0,\n",
    "}\n",
    "\n",
    "remainder.subs(solution)\n",
    "remainder.prune()\n",
    "\n",
    "remainder.show()  # number_of_ops=10)"
   ]
  },
  {
   "cell_type": "code",
   "execution_count": null,
   "metadata": {},
   "outputs": [],
   "source": [
    "observable.subs(solution)"
   ]
  }
 ],
 "metadata": {
  "kernelspec": {
   "display_name": "work",
   "language": "python",
   "name": "python3"
  },
  "language_info": {
   "codemirror_mode": {
    "name": "ipython",
    "version": 3
   },
   "file_extension": ".py",
   "mimetype": "text/x-python",
   "name": "python",
   "nbconvert_exporter": "python",
   "pygments_lexer": "ipython3",
   "version": "3.12.3"
  }
 },
 "nbformat": 4,
 "nbformat_minor": 2
}
