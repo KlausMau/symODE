{
 "cells": [
  {
   "cell_type": "code",
   "execution_count": null,
   "metadata": {},
   "outputs": [],
   "source": [
    "import sys\n",
    "sys.path.insert(0, '..')\n",
    "\n",
    "import numpy as np\n",
    "import matplotlib.pyplot as plt\n",
    "import src.circular_function as cf"
   ]
  },
  {
   "cell_type": "markdown",
   "metadata": {},
   "source": [
    "# Obtain Fourier modes from PRC data points\n",
    "\n",
    "Any $2\\pi$-periodic real function $f$ can be written in terms of its Fourier components $a_k$ and $b_k$:\n",
    "\n",
    "$\n",
    "\\begin{align}\n",
    "    f(t) \n",
    "    &= \\frac{a_0}{2} + \\sum_{k=1}^\\infty (a_k \\cos(kt) + b_k sin(kt)) \n",
    "    &= f_0 + 2\\sum_{k=1}^\\infty (\\Re(f_k) \\cos(kt) + \\Im(f_k) sin(kt))\n",
    "\\end{align}\n",
    "$\n",
    "\n",
    "that can be approximated by truncating the sum at some positive integer $M$. Then, $2M+1$ coefficients determine the whole function. If $N>2M+1$ samples of the function are availabe, they can be found by solving a over-determined set of linear equations and minimizing the error of least squares:\n",
    "\n",
    "$\n",
    "\\begin{align}\n",
    "\\begin{pmatrix}\n",
    "f(t_1) \\\\\n",
    "\\vdots \\\\\n",
    "f(t_N)\n",
    "\\end{pmatrix}\n",
    "= \n",
    "\\begin{pmatrix}\n",
    "1 & 2\\cos(t_1) & 2\\sin(t_1) & \\dots & 2\\cos(Mt_1) & 2\\sin(Mt_1) \\\\\n",
    "     \\vdots & \\vdots    & \\vdots    &       & \\vdots     & \\vdots     \\\\\n",
    "1 & 2\\cos(t_N) & 2\\sin(t_N) & \\dots & 2\\cos(Mt_N) & 2\\sin(Mt_N) \\\\\n",
    "\\end{pmatrix}\n",
    "\\cdot\n",
    "\\begin{pmatrix}\n",
    "f_0 \\\\\n",
    "\\Re(f_1) \\\\\n",
    "\\Im(f_1) \\\\\n",
    "\\vdots \\\\\n",
    "\\Re(f_M) \\\\\n",
    "\\Im(f_M) \\\\\n",
    "\\end{pmatrix}\n",
    "\\end{align}\n",
    "$"
   ]
  },
  {
   "cell_type": "markdown",
   "metadata": {},
   "source": [
    "# Shifting"
   ]
  },
  {
   "cell_type": "code",
   "execution_count": null,
   "metadata": {},
   "outputs": [],
   "source": [
    "phi = np.linspace(0, 2*np.pi, 300)\n",
    "function_values = np.exp(0.4*np.cos(4*phi) + np.sin(phi))\n",
    "\n",
    "f = cf.CircularRealFunction()\n",
    "f.set_from_data(phi, function_values, maximum_mode_number=10)\n",
    "\n",
    "# f as fit from data\n",
    "plt.plot(phi/(2*np.pi), f.get_values_at(phi), label=r'fit from data')\n",
    "\n",
    "# data\n",
    "plt.plot(phi/(2*np.pi), function_values, ls = ':', c='k', label=r'data')\n",
    "\n",
    "# shift f by pi\n",
    "f.shift_by(np.pi)\n",
    "plt.plot(phi/(2*np.pi), f.get_values_at(phi), label=r'shifted by $\\pi$')\n",
    "\n",
    "# shift f to have mean at pi\n",
    "f.shift_with_mean_at(np.pi)\n",
    "plt.plot(phi/(2*np.pi), f.get_values_at(phi), label=r'shifted to mean at $\\pi$')\n",
    "\n",
    "# shift f to have value f(0)=1 and be descending\n",
    "f.shift_with_zero_at(1, direction=-1, guesses=[0., np.pi/2, np.pi])\n",
    "plt.plot(phi/(2*np.pi), f.get_values_at(phi), label=r'shifted to be $f(0)=1$')\n",
    "\n",
    "plt.xlabel(r'$\\frac{\\phi}{2\\pi}$')\n",
    "plt.xlim(0,1)\n",
    "\n",
    "plt.legend()\n",
    "plt.show()"
   ]
  },
  {
   "cell_type": "markdown",
   "metadata": {},
   "source": [
    "# Derivatives"
   ]
  },
  {
   "cell_type": "code",
   "execution_count": null,
   "metadata": {},
   "outputs": [],
   "source": [
    "phi = np.linspace(0, 2*np.pi, 300)\n",
    "f = cf.CircularRealFunction(fourier_modes=np.array([1,1]))\n",
    "\n",
    "df = f.get_derivative()\n",
    "ddf = df.get_derivative()\n",
    "\n",
    "plt.axhline(0, c='k', ls='-', alpha=.7)\n",
    "\n",
    "# plot PRC and derivatives\n",
    "plt.plot(phi/(2*np.pi), f.get_values_at(phi),  'r-',   lw=1, alpha=1.0, label=r'$f$' )\n",
    "plt.plot(phi/(2*np.pi), df.get_values_at(phi),  'b--', lw=1, alpha=0.8, label=r'$\\partial_\\phi f$' )\n",
    "plt.plot(phi/(2*np.pi), ddf.get_values_at(phi), 'g--', lw=1, alpha=0.6, label=r'$\\partial^2_\\phi f$' )\n",
    "\n",
    "# x-axis\n",
    "plt.xlabel(r'$\\frac{\\phi}{2\\pi}$')\n",
    "plt.xlim(0,1)\n",
    "\n",
    "plt.legend(fontsize=13, bbox_to_anchor=(1,1), loc='upper left')\n",
    "plt.show()"
   ]
  },
  {
   "cell_type": "markdown",
   "metadata": {},
   "source": [
    "# Multiplication "
   ]
  },
  {
   "cell_type": "code",
   "execution_count": null,
   "metadata": {},
   "outputs": [],
   "source": [
    "phi = np.linspace(0, 2*np.pi, 100)\n",
    "\n",
    "f = cf.CircularRealFunction(fourier_modes = np.array([0, 1, 2j]))\n",
    "g = cf.CircularRealFunction(fourier_modes = np.array([0, 1, 3]))\n",
    "\n",
    "h = cf.multiply(f, g)\n",
    "\n",
    "plt.plot(phi, f.get_values_at(phi), 'k--', alpha=.6, label='f')\n",
    "plt.plot(phi, g.get_values_at(phi), 'k--', alpha=.6, label='g')\n",
    "plt.plot(phi, h.get_values_at(phi), c='b', label=r'$h=f*g$ (Fourier modes)')\n",
    "plt.plot(phi, f.get_values_at(phi)*g.get_values_at(phi), 'r--', label=r'$h=f*g$ (point-wise)')\n",
    "plt.legend(fontsize=13, bbox_to_anchor=(1,1), loc='upper left')\n",
    "plt.show()"
   ]
  }
 ],
 "metadata": {
  "kernelspec": {
   "display_name": "work",
   "language": "python",
   "name": "python3"
  },
  "language_info": {
   "codemirror_mode": {
    "name": "ipython",
    "version": 3
   },
   "file_extension": ".py",
   "mimetype": "text/x-python",
   "name": "python",
   "nbconvert_exporter": "python",
   "pygments_lexer": "ipython3",
   "version": "3.12.8"
  },
  "latex_envs": {
   "LaTeX_envs_menu_present": true,
   "autoclose": false,
   "autocomplete": true,
   "bibliofile": "biblio.bib",
   "cite_by": "apalike",
   "current_citInitial": 1,
   "eqLabelWithNumbers": true,
   "eqNumInitial": 1,
   "hotkeys": {
    "equation": "Ctrl-E",
    "itemize": "Ctrl-I"
   },
   "labels_anchors": false,
   "latex_user_defs": false,
   "report_style_numbering": false,
   "user_envs_cfg": false
  },
  "toc": {
   "base_numbering": 1,
   "nav_menu": {
    "height": "11.4667px",
    "width": "160px"
   },
   "number_sections": true,
   "sideBar": true,
   "skip_h1_title": false,
   "title_cell": "Table of Contents",
   "title_sidebar": "Contents",
   "toc_cell": false,
   "toc_position": {
    "height": "calc(100% - 180px)",
    "left": "10px",
    "top": "150px",
    "width": "204.467px"
   },
   "toc_section_display": true,
   "toc_window_display": true
  }
 },
 "nbformat": 4,
 "nbformat_minor": 4
}
