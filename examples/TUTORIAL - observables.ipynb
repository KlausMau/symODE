{
 "cells": [
  {
   "cell_type": "code",
   "execution_count": 2,
   "metadata": {},
   "outputs": [],
   "source": [
    "import sys\n",
    "sys.path.insert(0, '..')\n",
    "\n",
    "import sympy as sy\n",
    "from src.dynamical_system import DynamicalSystem\n",
    "from src.util import get_remainder_with_complex_ansatz"
   ]
  },
  {
   "cell_type": "code",
   "execution_count": 3,
   "metadata": {},
   "outputs": [],
   "source": [
    "system = DynamicalSystem('stuart_landau')"
   ]
  },
  {
   "cell_type": "code",
   "execution_count": 4,
   "metadata": {},
   "outputs": [],
   "source": [
    "x, y = system._variables"
   ]
  },
  {
   "cell_type": "code",
   "execution_count": 14,
   "metadata": {},
   "outputs": [],
   "source": [
    "omega, alpha, mu = system._parameters"
   ]
  },
  {
   "cell_type": "code",
   "execution_count": 15,
   "metadata": {},
   "outputs": [
    {
     "data": {
      "text/latex": [
       "$\\displaystyle 2 \\mu x^{2} + 2 \\mu y^{2} - 2 x^{4} - 4 x^{2} y^{2} - 2 y^{4}$"
      ],
      "text/plain": [
       "2*mu*x**2 + 2*mu*y**2 - 2*x**4 - 4*x**2*y**2 - 2*y**4"
      ]
     },
     "execution_count": 15,
     "metadata": {},
     "output_type": "execute_result"
    }
   ],
   "source": [
    "time_derivative = system.get_time_derivative_of_observable(x**2 + y**2)\n",
    "time_derivative.simplify()"
   ]
  },
  {
   "cell_type": "code",
   "execution_count": 26,
   "metadata": {},
   "outputs": [
    {
     "name": "stdout",
     "output_type": "stream",
     "text": [
      "x**8: -4*beta - 2\n",
      "x**7*y: -2*H*alpha*beta + 4*alpha*beta\n",
      "x**6*y**2: -4*H*beta - 2*H - 8*beta - 4\n",
      "x**6: -2*C*beta - 2*C + 4*beta*mu + mu\n",
      "x**5*y**3: -2*H*alpha*beta + 4*alpha*beta\n",
      "x**5*y: 2*C*alpha*beta - 2*E*alpha*beta + 2*H*beta*omega - 4*beta*omega\n",
      "x**4*y**4: -8*H*beta - 4*H - 8*beta - 4\n",
      "x**4*y**2: -4*C*beta - 4*C - 2*E*beta - 2*E + 4*H*beta*mu + H*mu + 4*beta*mu + mu\n",
      "x**4: 2*C*beta*mu + C*mu\n",
      "x**3*y**5: 2*H*alpha*beta - 4*alpha*beta\n",
      "x**3*y**3: 4*C*alpha*beta - 4*E*alpha*beta\n",
      "x**3*y: -2*C*beta*omega + 2*E*beta*omega\n",
      "x**2*y**6: -4*H*beta - 2*H - 8*beta - 4\n",
      "x**2*y**4: -2*C*beta - 2*C - 4*E*beta - 4*E + 4*H*beta*mu + H*mu + 4*beta*mu + mu\n",
      "x**2*y**2: 2*C*beta*mu + C*mu + 2*E*beta*mu + E*mu\n",
      "x*y**7: 2*H*alpha*beta - 4*alpha*beta\n",
      "x*y**5: 2*C*alpha*beta - 2*E*alpha*beta - 2*H*beta*omega + 4*beta*omega\n",
      "x*y**3: -2*C*beta*omega + 2*E*beta*omega\n",
      "y**8: -4*beta - 2\n",
      "y**6: -2*E*beta - 2*E + 4*beta*mu + mu\n",
      "y**4: 2*E*beta*mu + E*mu\n"
     ]
    }
   ],
   "source": [
    "a, b, c, d, e, f, g, h ,i, j, k, l, m, n, o, ld, beta = sy.symbols('a b c d e f g h i j k l m n o lambda beta')\n",
    "A, B, C, D, E, F, G, H, I, J, K, L, M, N, O = sy.symbols('A B C D E F G H I J K L M N O', real = True)\n",
    "\n",
    "real_polynomial = A*x + B*y + C*x**2 + D*x*y + E*y**2 + F + G*x**4 + H*x**2*y**2 + I*y**4\n",
    "complex_polynomial = a*x + b*y + c*x**2 + d*x*y + e*y**2 + f\n",
    "\n",
    "observable, remainder = get_remainder_with_complex_ansatz(system, complex_polynomial, real_polynomial, ld, beta)\n",
    "\n",
    "for var in [x,y]:\n",
    "    remainder.split(var)\n",
    "    remainder.prune()\n",
    "\n",
    "# limit cycle - isostable\n",
    "solution = {a:0, b:0, c:1, d:0, e:1, f:-mu,\n",
    "            A:0, B:0, C:1, D:0, E:1, F:0, G:0, H:0, I:0,\n",
    "            beta: -1, ld:-2*mu}\n",
    "\n",
    "# limit cycle - phase\n",
    "solution = {a:1, b:sy.I, c:0, d:0, e:0, f:0,\n",
    "            A:0, B:0, C:1, D:0, E:1, F:0, G:0, H:0, I:0,\n",
    "            beta: -(1+sy.I*alpha)/2, ld:sy.I*(omega-alpha*mu)}\n",
    "\n",
    "# fixed point - isostable\n",
    "solution = {a:0, b:0, c:1, d:0, e:1, f:0,\n",
    "            A:0, B:0, C:C, D:0, E:E, F:0, G:1, H:H, I:1,\n",
    "            beta: beta, ld: mu}\n",
    "\n",
    "remainder.subs(solution)\n",
    "remainder.prune()\n",
    "\n",
    "remainder.show()"
   ]
  },
  {
   "cell_type": "code",
   "execution_count": 20,
   "metadata": {},
   "outputs": [
    {
     "data": {
      "text/latex": [
       "$\\displaystyle \\left(x + i y\\right) e^{\\left(- \\frac{i \\alpha}{2} - \\frac{1}{2}\\right) \\log{\\left(x^{2} + y^{2} \\right)}}$"
      ],
      "text/plain": [
       "(x + I*y)*exp((-I*alpha/2 - 1/2)*log(x**2 + y**2))"
      ]
     },
     "execution_count": 20,
     "metadata": {},
     "output_type": "execute_result"
    }
   ],
   "source": [
    "observable.subs(solution)"
   ]
  }
 ],
 "metadata": {
  "kernelspec": {
   "display_name": "work",
   "language": "python",
   "name": "python3"
  },
  "language_info": {
   "codemirror_mode": {
    "name": "ipython",
    "version": 3
   },
   "file_extension": ".py",
   "mimetype": "text/x-python",
   "name": "python",
   "nbconvert_exporter": "python",
   "pygments_lexer": "ipython3",
   "version": "3.12.3"
  }
 },
 "nbformat": 4,
 "nbformat_minor": 2
}
