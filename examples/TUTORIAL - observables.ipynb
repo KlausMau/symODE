{
 "cells": [
  {
   "cell_type": "code",
   "execution_count": null,
   "metadata": {},
   "outputs": [],
   "source": [
    "import sympy as sy\n",
    "from src.dynamical_system import DynamicalSystem\n",
    "from src.util import get_remainder_with_complex_ansatz"
   ]
  },
  {
   "cell_type": "code",
   "execution_count": null,
   "metadata": {},
   "outputs": [],
   "source": [
    "system = DynamicalSystem('stuart_landau')"
   ]
  },
  {
   "cell_type": "code",
   "execution_count": null,
   "metadata": {},
   "outputs": [],
   "source": [
    "x, y = system._variables"
   ]
  },
  {
   "cell_type": "code",
   "execution_count": null,
   "metadata": {},
   "outputs": [],
   "source": [
    "omega, alpha, mu = system._parameters"
   ]
  },
  {
   "cell_type": "code",
   "execution_count": null,
   "metadata": {},
   "outputs": [],
   "source": [
    "time_derivative = system.get_time_derivative_of_observable(x**2 + y**2)\n",
    "time_derivative.simplify()"
   ]
  },
  {
   "cell_type": "code",
   "execution_count": null,
   "metadata": {},
   "outputs": [],
   "source": [
    "a, b, c, d, e, f, g, h ,i, j, k, l, m, n, o, ld, beta = sy.symbols('a b c d e f g h i j k l m n o lambda beta')\n",
    "A, B, C, D, E, F, G, H, I, J, K, L, M, N, O = sy.symbols('A B C D E F G H I J K L M N O', real = True)\n",
    "\n",
    "real_polynomial = A*x + B*y + C*x**2 + D*x*y + E*y**2 + F + G*x**4 + H*x**2*y**2 + I*y**4\n",
    "complex_polynomial = a*x + b*y + c*x**2 + d*x*y + e*y**2 + f\n",
    "\n",
    "observable, remainder = get_remainder_with_complex_ansatz(system, complex_polynomial, real_polynomial, ld, beta)\n",
    "\n",
    "for var in [x,y]:\n",
    "    remainder.split(var)\n",
    "    remainder.prune()\n",
    "\n",
    "# limit cycle - isostable\n",
    "solution = {a:0, b:0, c:1, d:0, e:1, f:-mu,\n",
    "            A:0, B:0, C:1, D:0, E:1, F:0, G:0, H:0, I:0,\n",
    "            beta: -1, ld:-2*mu}\n",
    "\n",
    "# limit cycle - phase\n",
    "solution = {a:1, b:sy.I, c:0, d:0, e:0, f:0,\n",
    "            A:0, B:0, C:1, D:0, E:1, F:0, G:0, H:0, I:0,\n",
    "            beta: -(1+sy.I*alpha)/2, ld:sy.I*(omega-alpha*mu)}\n",
    "\n",
    "# fixed point - isostable\n",
    "solution = {a:0, b:0, c:1, d:0, e:1, f:0,\n",
    "            A:0, B:0, C:C, D:0, E:E, F:0, G:1, H:H, I:1,\n",
    "            beta: beta, ld: mu}\n",
    "\n",
    "remainder.subs(solution)\n",
    "remainder.prune()\n",
    "\n",
    "remainder.show()"
   ]
  },
  {
   "cell_type": "code",
   "execution_count": null,
   "metadata": {},
   "outputs": [],
   "source": [
    "observable.subs(solution)"
   ]
  }
 ],
 "metadata": {
  "kernelspec": {
   "display_name": "work",
   "language": "python",
   "name": "python3"
  },
  "language_info": {
   "codemirror_mode": {
    "name": "ipython",
    "version": 3
   },
   "file_extension": ".py",
   "mimetype": "text/x-python",
   "name": "python",
   "nbconvert_exporter": "python",
   "pygments_lexer": "ipython3",
   "version": "3.12.3"
  }
 },
 "nbformat": 4,
 "nbformat_minor": 2
}
