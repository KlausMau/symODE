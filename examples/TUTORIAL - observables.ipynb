{
 "cells": [
  {
   "cell_type": "code",
   "execution_count": null,
   "metadata": {},
   "outputs": [],
   "source": [
    "import sympy as sy\n",
    "from src.dynamical_system import DynamicalSystem\n",
    "from src.util import get_remainder_with_complex_ansatz"
   ]
  },
  {
   "cell_type": "code",
   "execution_count": null,
   "metadata": {},
   "outputs": [],
   "source": [
    "system = DynamicalSystem(\"stuart_landau\")"
   ]
  },
  {
   "cell_type": "code",
   "execution_count": null,
   "metadata": {},
   "outputs": [],
   "source": [
    "x, y = system._variables"
   ]
  },
  {
   "cell_type": "code",
   "execution_count": null,
   "metadata": {},
   "outputs": [],
   "source": [
    "omega, alpha, mu = system._parameters"
   ]
  },
  {
   "cell_type": "code",
   "execution_count": null,
   "metadata": {},
   "outputs": [],
   "source": [
    "time_derivative = system.get_time_derivative_of_observable(x**2 + y**2)\n",
    "time_derivative.simplify()"
   ]
  },
  {
   "cell_type": "code",
   "execution_count": null,
   "metadata": {},
   "outputs": [],
   "source": [
    "a, b, c, d, e, f, g, h, i, j, k, l, m, n, o, ld, beta = sy.symbols(\n",
    "    \"a b c d e f g h i j k l m n o lambda beta\"\n",
    ")\n",
    "A, B, C, D, E, F, G, H, I, J, K, L, M, N, O = sy.symbols(\n",
    "    \"A B C D E F G H I J K L M N O\", real=True\n",
    ")\n",
    "\n",
    "real_polynomial = (\n",
    "    A * x\n",
    "    + B * y\n",
    "    + C * x**2\n",
    "    + D * x * y\n",
    "    + E * y**2\n",
    "    + F\n",
    "    + G * x**4\n",
    "    + H * x**2 * y**2\n",
    "    + I * y**4\n",
    ")\n",
    "complex_polynomial = a * x + b * y + c * x**2 + d * x * y + e * y**2 + f\n",
    "\n",
    "observable, remainder = get_remainder_with_complex_ansatz(\n",
    "    system, complex_polynomial, real_polynomial, ld, beta\n",
    ")\n",
    "\n",
    "for var in [x, y]:\n",
    "    remainder.split(var)\n",
    "    remainder.prune()\n",
    "\n",
    "# limit cycle - isostable\n",
    "solution = {\n",
    "    a: 0,\n",
    "    b: 0,\n",
    "    c: 1,\n",
    "    d: 0,\n",
    "    e: 1,\n",
    "    f: -mu,\n",
    "    A: 0,\n",
    "    B: 0,\n",
    "    C: 1,\n",
    "    D: 0,\n",
    "    E: 1,\n",
    "    F: 0,\n",
    "    G: 0,\n",
    "    H: 0,\n",
    "    I: 0,\n",
    "    beta: -1,\n",
    "    ld: -2 * mu,\n",
    "}\n",
    "\n",
    "# limit cycle - phase\n",
    "solution = {\n",
    "    a: 1,\n",
    "    b: sy.I,\n",
    "    c: 0,\n",
    "    d: 0,\n",
    "    e: 0,\n",
    "    f: 0,\n",
    "    A: 0,\n",
    "    B: 0,\n",
    "    C: 1,\n",
    "    D: 0,\n",
    "    E: 1,\n",
    "    F: 0,\n",
    "    G: 0,\n",
    "    H: 0,\n",
    "    I: 0,\n",
    "    beta: -(1 + sy.I * alpha) / 2,\n",
    "    ld: sy.I * (omega - alpha * mu),\n",
    "}\n",
    "\n",
    "# fixed point - isostable\n",
    "solution = {\n",
    "    a: 0,\n",
    "    b: 0,\n",
    "    c: 1,\n",
    "    d: 0,\n",
    "    e: 1,\n",
    "    f: 0,\n",
    "    A: 0,\n",
    "    B: 0,\n",
    "    C: C,\n",
    "    D: 0,\n",
    "    E: E,\n",
    "    F: 0,\n",
    "    G: 1,\n",
    "    H: H,\n",
    "    I: 1,\n",
    "    beta: beta,\n",
    "    ld: mu,\n",
    "}\n",
    "\n",
    "remainder.subs(solution)\n",
    "remainder.prune()\n",
    "\n",
    "remainder.show()"
   ]
  },
  {
   "cell_type": "code",
   "execution_count": null,
   "metadata": {},
   "outputs": [],
   "source": [
    "observable.subs(solution)"
   ]
  }
 ],
 "metadata": {
  "kernelspec": {
   "display_name": "work",
   "language": "python",
   "name": "python3"
  },
  "language_info": {
   "codemirror_mode": {
    "name": "ipython",
    "version": 3
   },
   "file_extension": ".py",
   "mimetype": "text/x-python",
   "name": "python",
   "nbconvert_exporter": "python",
   "pygments_lexer": "ipython3",
   "version": "3.12.3"
  }
 },
 "nbformat": 4,
 "nbformat_minor": 2
}
