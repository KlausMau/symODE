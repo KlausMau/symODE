{
 "cells": [
  {
   "cell_type": "code",
   "execution_count": null,
   "metadata": {},
   "outputs": [],
   "source": [
    "import sympy as sy\n",
    "import numpy as np\n",
    "import scipy as sc\n",
    "#from tqdm import tqdm\n",
    "\n",
    "import matplotlib.pyplot as plt\n",
    "\n",
    "from DynamicalSystem import DynamicalSystem\n",
    "\n",
    "from importlib import reload\n",
    "#import copy\n",
    "\n",
    "#import ipywidgets as wdg"
   ]
  },
  {
   "cell_type": "markdown",
   "metadata": {},
   "source": [
    "# JITCODE"
   ]
  },
  {
   "cell_type": "code",
   "execution_count": null,
   "metadata": {},
   "outputs": [
    {
     "ename": "ModuleNotFoundError",
     "evalue": "No module named 'jitcode'",
     "output_type": "error",
     "traceback": [
      "\u001b[0;31m---------------------------------------------------------------------------\u001b[0m\n",
      "\u001b[0;31mModuleNotFoundError\u001b[0m                       Traceback (most recent call last)\n",
      "\u001b[1;32m/cusp/erikmau/OneDrive/projects/PRC/TUTORIAL - dynamical systems.ipynb Cell 21\u001b[0m in \u001b[0;36m<cell line: 1>\u001b[0;34m()\u001b[0m\n",
      "\u001b[0;32m----> <a href='vscode-notebook-cell:/cusp/erikmau/OneDrive/projects/PRC/TUTORIAL%20-%20dynamical%20systems.ipynb#X46sZmlsZQ%3D%3D?line=0'>1</a>\u001b[0m \u001b[39mimport\u001b[39;00m \u001b[39mjitcode\u001b[39;00m\n",
      "\u001b[1;32m      <a href='vscode-notebook-cell:/cusp/erikmau/OneDrive/projects/PRC/TUTORIAL%20-%20dynamical%20systems.ipynb#X46sZmlsZQ%3D%3D?line=1'>2</a>\u001b[0m jitcode\u001b[39m.\u001b[39mtest()\n",
      "\n",
      "\u001b[0;31mModuleNotFoundError\u001b[0m: No module named 'jitcode'"
     ]
    }
   ],
   "source": [
    "import jitcode\n",
    "jitcode.test()"
   ]
  },
  {
   "cell_type": "code",
   "execution_count": null,
   "metadata": {},
   "outputs": [
    {
     "ename": "ModuleNotFoundError",
     "evalue": "No module named 'jitcode'",
     "output_type": "error",
     "traceback": [
      "\u001b[0;31m---------------------------------------------------------------------------\u001b[0m\n",
      "\u001b[0;31mModuleNotFoundError\u001b[0m                       Traceback (most recent call last)\n",
      "\u001b[1;32m/cusp/erikmau/OneDrive/projects/PRC/TUTORIAL - dynamical systems.ipynb Cell 21\u001b[0m in \u001b[0;36m<cell line: 1>\u001b[0;34m()\u001b[0m\n",
      "\u001b[0;32m----> <a href='vscode-notebook-cell:/cusp/erikmau/OneDrive/projects/PRC/TUTORIAL%20-%20dynamical%20systems.ipynb#X44sZmlsZQ%3D%3D?line=0'>1</a>\u001b[0m \u001b[39mfrom\u001b[39;00m \u001b[39mjitcode\u001b[39;00m \u001b[39mimport\u001b[39;00m y, jitcode\n",
      "\u001b[1;32m      <a href='vscode-notebook-cell:/cusp/erikmau/OneDrive/projects/PRC/TUTORIAL%20-%20dynamical%20systems.ipynb#X44sZmlsZQ%3D%3D?line=2'>3</a>\u001b[0m \u001b[39mimport\u001b[39;00m \u001b[39mnumpy\u001b[39;00m \u001b[39mas\u001b[39;00m \u001b[39mnp\u001b[39;00m\n",
      "\u001b[1;32m      <a href='vscode-notebook-cell:/cusp/erikmau/OneDrive/projects/PRC/TUTORIAL%20-%20dynamical%20systems.ipynb#X44sZmlsZQ%3D%3D?line=5'>6</a>\u001b[0m γ \u001b[39m=\u001b[39m \u001b[39m0.6\u001b[39m\n",
      "\n",
      "\u001b[0;31mModuleNotFoundError\u001b[0m: No module named 'jitcode'"
     ]
    }
   ],
   "source": [
    "\n",
    "from jitcode import y, jitcode\n",
    "\n",
    "import numpy as np\n",
    "\n",
    "\\alpha\n",
    "\n",
    "γ = 0.6\n",
    "φ = 1.0\n",
    "ω = 0.5\n",
    "ν = 0.5\n",
    "\n",
    "R,B = dynvars = [ y(i) for i in range(2) ]\n",
    "\n",
    "lotka_volterra_diff = {\n",
    "\n",
    "\t\tB:  γ*B - φ*R*B,\n",
    "\n",
    "\t\tR: -ω*R + ν*R*B,\n",
    "\n",
    "\t}\n",
    "\n",
    "\n",
    "ODE = jitcode(lotka_volterra_diff)\n",
    "\n",
    "ODE.set_integrator(\"dopri5\")\n",
    "\n",
    "initial_state = { R: 0.2, B: 0.5 }\n",
    "\n",
    "ODE.set_initial_value(initial_state,0.0)\n",
    "\n",
    "\n",
    "times = np.arange(0.0,100,0.1)\n",
    "\n",
    "values = { R: [], B: [] }\n",
    "\n",
    "for time in times:\n",
    "\n",
    "\tODE.integrate(time)\n",
    "\n",
    "\tfor dynvar in dynvars:\n",
    "\n",
    "\t\tvalues[dynvar].append(ODE.y_dict[dynvar])"
   ]
  },
  {
   "cell_type": "markdown",
   "metadata": {},
   "source": [
    "# Speedtest numba"
   ]
  },
  {
   "cell_type": "code",
   "execution_count": null,
   "metadata": {},
   "outputs": [
    {
     "ename": "NameError",
     "evalue": "name 'nb' is not defined",
     "output_type": "error",
     "traceback": [
      "\u001b[0;31m---------------------------------------------------------------------------\u001b[0m\n",
      "\u001b[0;31mNameError\u001b[0m                                 Traceback (most recent call last)\n",
      "\u001b[0;32m/tmp/ipykernel_15084/232074387.py\u001b[0m in \u001b[0;36m<cell line: 6>\u001b[0;34m()\u001b[0m\n",
      "\u001b[1;32m      4\u001b[0m     \u001b[0;32mreturn\u001b[0m \u001b[0;34m-\u001b[0m\u001b[0;36m0.5\u001b[0m \u001b[0;34m*\u001b[0m \u001b[0mstate\u001b[0m\u001b[0;34m[\u001b[0m\u001b[0;36m1\u001b[0m\u001b[0;34m]\u001b[0m\u001b[0;34m,\u001b[0m \u001b[0;36m0.5\u001b[0m\u001b[0;34m*\u001b[0m\u001b[0mstate\u001b[0m\u001b[0;34m[\u001b[0m\u001b[0;36m0\u001b[0m\u001b[0;34m]\u001b[0m\u001b[0;34m\u001b[0m\u001b[0;34m\u001b[0m\u001b[0m\n",
      "\u001b[1;32m      5\u001b[0m \u001b[0;34m\u001b[0m\u001b[0m\n",
      "\u001b[0;32m----> 6\u001b[0;31m \u001b[0mf_nb\u001b[0m \u001b[0;34m=\u001b[0m \u001b[0mnb\u001b[0m\u001b[0;34m.\u001b[0m\u001b[0mjit\u001b[0m\u001b[0;34m(\u001b[0m\u001b[0mf\u001b[0m\u001b[0;34m,\u001b[0m \u001b[0mnopython\u001b[0m\u001b[0;34m=\u001b[0m\u001b[0;32mTrue\u001b[0m\u001b[0;34m)\u001b[0m\u001b[0;34m\u001b[0m\u001b[0;34m\u001b[0m\u001b[0m\n",
      "\u001b[0m\u001b[1;32m      7\u001b[0m \u001b[0;34m\u001b[0m\u001b[0m\n",
      "\u001b[1;32m      8\u001b[0m \u001b[0;32mfor\u001b[0m \u001b[0mg\u001b[0m \u001b[0;32min\u001b[0m \u001b[0;34m[\u001b[0m\u001b[0mf\u001b[0m\u001b[0;34m,\u001b[0m \u001b[0mf_nb\u001b[0m\u001b[0;34m]\u001b[0m\u001b[0;34m:\u001b[0m\u001b[0;34m\u001b[0m\u001b[0;34m\u001b[0m\u001b[0m\n",
      "\n",
      "\u001b[0;31mNameError\u001b[0m: name 'nb' is not defined"
     ]
    }
   ],
   "source": [
    "from scipy.integrate import solve_ivp\n",
    "\n",
    "def f(t, state): \n",
    "    return -0.5 * state[1], 0.5*state[0]\n",
    "\n",
    "f_nb = nb.jit(f, nopython=True)\n",
    "\n",
    "for g in [f, f_nb]:\n",
    "    st = time.time()\n",
    "    sol = solve_ivp(g, np.arange(0, 1e10, 1e5), [0,1])\n",
    "    et = time.time()\n",
    "    elapsed_time = et - st\n",
    "    print('Execution time:', elapsed_time, 'seconds')"
   ]
  },
  {
   "cell_type": "markdown",
   "metadata": {},
   "source": [
    "#  own implementation"
   ]
  },
  {
   "cell_type": "code",
   "execution_count": null,
   "metadata": {},
   "outputs": [],
   "source": [
    "reload(ds)\n",
    "system = ds.DynamicalSystem(autonomous = 'rayleigh')\n",
    "params = {sy.symbols('mu'): 2.,\n",
    "          sy.symbols('omega'): 0.98}\n",
    "\n",
    "state0 = [0.3, 2.1]\n",
    "\n",
    "t_max = 1000.\n",
    "states = system.get_trajectories_numbalsoda()\n",
    "\n",
    "#plt.plot(states.y[0,:], states.y[1,:])\n",
    "#plt.show()\n",
    "\n",
    "plt.plot(states[:,0], states[:,1])\n",
    "plt.show()"
   ]
  }
 ],
 "metadata": {
  "language_info": {
   "name": "python"
  }
 },
 "nbformat": 4,
 "nbformat_minor": 2
}
